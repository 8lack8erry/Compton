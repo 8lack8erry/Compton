{
 "cells": [
  {
   "cell_type": "markdown",
   "id": "08e131fe",
   "metadata": {},
   "source": [
    "# Rate vs Cross section\n",
    "\n",
    "In general we ca write the relation between Rate, $\\frac{dR}{d\\Omega}$, and the Cross Section, $\\frac{d\\sigma}{d\\Omega}$: \n",
    "\n",
    "$$\n",
    "\\frac{dR}{d\\Omega} = \\epsilon_{spettrometer} N_c \\Phi \\frac{d\\sigma}{d\\Omega}\n",
    "$$\n",
    " \n",
    "where $N_c$ is the number of scattering center and $\\Phi$ is the flux of the particles. "
   ]
  },
  {
   "cell_type": "markdown",
   "id": "9137b0cb",
   "metadata": {},
   "source": [
    "## Calculus of the number of scattering center\n",
    "We can think that at first approximation, $N_c$ is the number of electrons in the illuminated region of the target, and so it follow the following equation:\n",
    "$$\n",
    "N_c = \\rho \\frac{N_aZ}{\\text{MM}}V\n",
    "$$\n",
    "where: \n",
    "- $\\rho$ is the density of the scattering target\n",
    "- $N_a$ is the Avogadro number\n",
    "- $Z$ is the atomic number of the scattering target\n",
    "- $\\text{MM}$ is the molar mass of the scattering target\n",
    "- $V$ is the volume"
   ]
  },
  {
   "cell_type": "code",
   "execution_count": null,
   "id": "3712692b",
   "metadata": {},
   "outputs": [],
   "source": [
    "# function to evaluate the Volume for each angle \n"
   ]
  },
  {
   "cell_type": "code",
   "execution_count": 1,
   "id": "af346fa9",
   "metadata": {},
   "outputs": [
    {
     "name": "stdout",
     "output_type": "stream",
     "text": [
      "Number of scattering center in the target:  1.2311998237497247e+24\n"
     ]
    }
   ],
   "source": [
    "#For a Cu target\n",
    "rho = 8.96 #g/cm^3\n",
    "N_a = 6.022e23 #mol^-1\n",
    "Z = 29 #number of electrons\n",
    "MM = 63.546 #g/mol\n",
    "V = 0.5 #cm^3\n",
    "\n",
    "#Calculus of the number of atoms in the target\n",
    "N_c = rho * (N_a * Z / MM) * V\n",
    "print(\"Number of scattering center in the target: \", N_c)"
   ]
  },
  {
   "cell_type": "markdown",
   "id": "cab236ee",
   "metadata": {},
   "source": []
  },
  {
   "cell_type": "markdown",
   "id": "f715047b",
   "metadata": {},
   "source": [
    "## Calculus of the flux\n",
    "We can think at the flux as the number of particle that pass through the detector surface per seconds, so we can write: \n",
    "\n",
    "$$\n",
    "\\Phi = \\frac{S(t)\\text{BR}}{A}\\frac{\\Delta\\Omega}{4\\pi}\\epsilon_{gate}(511)\n",
    "$$\n",
    "\n",
    "where: \n",
    "- $S(t)$ is the activity of the source in Bq\n",
    "- $\\text{BR}$ is the branching ratio of the 511 keV photon\n",
    "- $A$ is the detector surface || SURFACE OF TARGET FOR THE FLUX NOT DETECTOR\n",
    "- $\\frac{\\Delta\\Omega}{4\\pi}$ is the solid angle\n",
    "- $\\epsilon_{gate}(511)$ is the efficiency of the gate detector for the 511 keV photon"
   ]
  },
  {
   "cell_type": "code",
   "execution_count": null,
   "id": "0efbcda6",
   "metadata": {},
   "outputs": [
    {
     "name": "stdout",
     "output_type": "stream",
     "text": [
      "Flux of the source:  480.75024058793974\n"
     ]
    }
   ],
   "source": [
    "import numpy as np\n",
    "\n",
    "S = 175000 #Bq\n",
    "BR = 1.808 #\n",
    "\n",
    "# Calculus of the solid angle\n",
    "r_gate = 1.27  #cm\n",
    "d_gate_source = 16 #cm\n",
    "theta = np.arctan(r_gate / d_gate_source)\n",
    "Omega = 2 * np.pi * (1 - np.cos(theta)) #sr\n",
    "\n",
    "#r_spettrometer = 2.54 #cm                   #SECONDO ME NO\n",
    "#A = np.pi * r_spettrometer**2 #cm^2         #SECONDO ME NO\n",
    "\n",
    "r_sorg_targ = 5 #cm\n",
    "R = r_sorg_targ * np.tan(theta)\n",
    "A = np.pi * R**2 #cm^2\n",
    "\n",
    "# NOTE: THIS IS TRUE ONLY IF THE TARGET IS PERPENDICULR TO THE RADIOACTIVE SOURCE... \n",
    "# IF THE TARGET HAS AN INCLINATION ANGLE, IT MUST BE APPLIED THE COS OF THE ANGLE FOR THE DEFINITION OF FLUX\n",
    "\n",
    "angle = 0\n",
    "A = A / np.cos(angle)\n",
    "\n",
    "epsilon_gate = 0.19\n",
    "\n",
    "# Calculus of the flux\n",
    "flux = (S * BR / A) * (Omega / (4 * np.pi)) * epsilon_gate #cm^-2 s^-1\n",
    "print(\"Flux of the source: \", flux)"
   ]
  },
  {
   "cell_type": "markdown",
   "id": "32377215",
   "metadata": {},
   "source": [
    "## Calculus of the cross section\n",
    "The cross section has to be the Klein-Nshina formula: \n",
    "\n",
    "$$\n",
    "\\frac{d\\sigma}{d\\Omega} = \\frac{r_e^2}{2}\\bigg(\\frac{\\omega'}{\\omega}\\bigg)^2\\bigg[\\frac{\\omega'}{\\omega} + \\frac{\\omega}{\\omega'} - \\sin^2(\\theta)\\bigg]\n",
    "$$\n"
   ]
  },
  {
   "cell_type": "markdown",
   "id": "cd70cb59",
   "metadata": {},
   "source": [
    "## Calculus of Rate vs Cross Section\n",
    "We can resume all the upper calculus to find the constant between the Rate and the Cross section: "
   ]
  },
  {
   "cell_type": "code",
   "execution_count": null,
   "id": "464cad67",
   "metadata": {},
   "outputs": [
    {
     "name": "stdout",
     "output_type": "stream",
     "text": [
      "Constant:  11.750370139172066\n"
     ]
    }
   ],
   "source": [
    "epsilon_spettrometer = 0.3365 \n",
    "r_e = 2.81794e-13 #cm\n",
    "\n",
    "const = N_c * flux * (r_e ** 2 / 2) * epsilon_spettrometer\n",
    "print(\"Constant: \", const)"
   ]
  }
 ],
 "metadata": {
  "kernelspec": {
   "display_name": "Python (myenv)",
   "language": "python",
   "name": "myenv"
  },
  "language_info": {
   "codemirror_mode": {
    "name": "ipython",
    "version": 3
   },
   "file_extension": ".py",
   "mimetype": "text/x-python",
   "name": "python",
   "nbconvert_exporter": "python",
   "pygments_lexer": "ipython3",
   "version": "3.12.3"
  }
 },
 "nbformat": 4,
 "nbformat_minor": 5
}
