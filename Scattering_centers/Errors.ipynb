{
 "cells": [
  {
   "cell_type": "markdown",
   "id": "1b5cc564",
   "metadata": {},
   "source": [
    "$$\n",
    "\\sigma = \\sigma_{fit} \\oplus \\sigma_{counts} \\oplus \\sigma_{\\Delta E} \\oplus \\sigma_{detector}\n",
    "$$"
   ]
  }
 ],
 "metadata": {
  "language_info": {
   "name": "python"
  }
 },
 "nbformat": 4,
 "nbformat_minor": 5
}
