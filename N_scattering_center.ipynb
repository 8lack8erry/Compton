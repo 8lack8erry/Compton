{
 "cells": [
  {
   "cell_type": "markdown",
   "metadata": {},
   "source": [
    "# Calculus of the real number of the scattered photons\n",
    "\n",
    "The cross section of a scattering process is given by the formula: \n",
    "$$\n",
    "\\frac{d\\sigma}{d\\Omega} = \\frac{N_e}{N_c I}\n",
    "$$\n",
    "where:\n",
    "- $N_e$ is the **number of events**, we know that not all the scattering photns where reveald by the detector, because it has a certain efficiency, $\\epsilon_{spettroscopy}$ and there is a certain probability to have a Compton scattering, $\\wp(C)$, so the number of reveal events follow the equation: \n",
    "    $$\n",
    "    N_e^{observed} = N_e \\wp(C)\\epsilon_{spettroscopy}\n",
    "    $$\n",
    "\n",
    "- $N_c$ is the **number of scattering centers** that, at the first approximation, follow the equation: \n",
    "    $$\n",
    "    N_c = \\rho N_a \\frac{Z}{\\text{MM}} V\n",
    "    $$\n",
    "    where: \n",
    "    - $\\rho$ is the density of the scattering target\n",
    "    - $N_a$ is the Avogadro number\n",
    "    - $Z$ is the atomic number of the scattering target\n",
    "    - $\\text{MM}$ is the molar mass of the scattering target\n",
    "    - $V$ is the volume\n",
    "\n",
    "- $I$ is the **intensity of the beam** that follow the equation: \n",
    "    $$\n",
    "    I = S \\epsilon_{gate} \\frac{\\Delta\\Omega}{4\\pi}\n",
    "    $$\n",
    "    where: \n",
    "    - $S$ is the activity of the source\n",
    "    - $\\epsilon_{gate}$ is the efficiency of the gate detector\n",
    "    - $\\frac{\\Delta\\Omega}{4\\pi}$ is the solid angle\n"
   ]
  },
  {
   "cell_type": "markdown",
   "metadata": {},
   "source": [
    "We can now rewrite the first equation with all the therms: \n",
    "$$\n",
    "\\frac{d\\sigma}{d\\Omega} = \\frac{N_e^{observed}}{\\wp(C)\\epsilon_{spettroscopy}}\\frac{\\text{MM}}{\\rho N_a Z S V\\epsilon_{gate}}\\frac{4\\pi}{\\Delta\\Omega}\n",
    "$$"
   ]
  },
  {
   "cell_type": "markdown",
   "metadata": {},
   "source": [
    "## Probabilities\n",
    "### Normalization \n",
    "In order to define the probabilities we have to compute the normalization of our probability density function (pdf), $f(x)$. \n",
    "\n",
    "We can write the probability of a given event, $E$, inside the target with, $d$, as: \n",
    "$$\n",
    "\\wp(E) = \\frac{\\int_0^d\\,dx\\,f(x)}{\\int_{\\mathbb{R}^{+}}\\,dx\\,f(x)}\n",
    "$$\n",
    "\n",
    "where we can define $N := \\int_{\\mathbb{R}^{+}}\\,dx\\,f(x)$, the normalization factor.\n",
    "\n",
    "### Calculus of the probability\n",
    "We want $\\wp(C)(d,\\theta, \\lambda)$ to be the probability of a single Compton so we integrate the factor that represents the the probability to have a Compton scattering in a distance $x$ for each $x\\in(0, d)$.\n",
    "$$\n",
    "\\wp(C)(d, \\lambda) =\\frac{1}{N_C}\\int_0^d\\,dx\\, e^{-\\frac{x}{\\lambda}}\n",
    "$$\n",
    "For $\\wp(C|C)(d, \\theta, \\lambda, \\lambda')$ and $\\wp(C|A)(d, \\theta, \\lambda, \\lambda_A)$ we want to compute the probability to have other Compton scattering or the photon assorbition after the first Compton. \n",
    "$$\n",
    "\\wp(C|C)(d, \\theta, \\lambda, \\lambda') = \\frac{1}{N_{C|C}}\\int_0^d\\,dx\\, e^{-\\frac{x}{\\lambda}}\\int_{x}^{\\frac{d-x}{\\cos(\\theta)}}\\,dy\\, e^{-\\frac{y}{\\lambda'}}\n",
    "$$\n",
    "$$\n",
    "\\wp(C|A)(d, \\theta, \\lambda, \\lambda_A) = \\frac{1}{N_{C|A}}\\int_0^d\\,dx\\, e^{-\\frac{x}{\\lambda}}\\int_{x}^{\\frac{d-x}{\\cos(\\theta)}}\\,dy\\, e^{-\\frac{y}{\\lambda_A}}\n",
    "$$\n"
   ]
  },
  {
   "cell_type": "markdown",
   "metadata": {},
   "source": [
    "#### Integrals calculus "
   ]
  },
  {
   "cell_type": "markdown",
   "metadata": {},
   "source": [
    "- $\\wp(C)$:\n",
    "    $$\n",
    "    \\wp(C)(d,\\theta, \\lambda) = \\frac{1}{N_C}\\int_0^d\\,dx\\, e^{-\\frac{x}{\\lambda}}\n",
    "    $$\n",
    "    $$\n",
    "    = \\frac{1}{N_C} \\lambda(1 - e^{-\\frac{d}{\\lambda}})\n",
    "    $$\n",
    "    $$\n",
    "    N_C = \\int_{\\mathbb{R}^+} \\,dx\\, e^{-\\frac{x}{\\lambda}} = \\lambda\n",
    "    $$\n",
    "    $$\n",
    "    \\Rightarrow\\, \\wp(C)(d, \\lambda) = (1 - e^{-\\frac{d}{\\lambda}})"
   ]
  },
  {
   "cell_type": "markdown",
   "metadata": {},
   "source": [
    "---\n",
    "\n",
    "- $\\wp(C|C)$:\n",
    "    $$\n",
    "    \\wp(C|C)(d, \\theta, \\lambda, \\lambda') = \\frac{1}{N_{C|C}}\\int_0^d\\,dx\\, e^{-\\frac{x}{\\lambda}}\\int_{x}^{\\frac{d-x}{\\cos(\\theta)}}\\,dy\\, e^{-\\frac{y}{\\lambda'}}\n",
    "    $$\n",
    "    $$\n",
    "    = \\frac{1}{N_{C|C}}\\int_0^d\\,dx\\, e^{-\\frac{x}{\\lambda}}\\lambda'\\bigg(e^{-\\frac{x}{\\lambda'}} - e^{-\\frac{d - x}{\\cos(\\theta)\\lambda'}}\\bigg)\n",
    "    $$\n",
    "    $$\n",
    "    = \\frac{\\lambda'}{N_{C|C}}\\bigg[\\int_0^d\\,dx\\, \\exp\\bigg(-x\\bigg(\\frac{1}{\\lambda} + \\frac{1}{\\lambda'}\\bigg)\\bigg) - e^{\\frac{d}{\\cos(\\theta)\\lambda'}}\\int_0^d\\,dx\\,  \\exp\\bigg(-x\\bigg(\\frac{1}{\\lambda} + \\frac{1}{\\cos(\\theta)\\lambda'}\\bigg)\\bigg)\\bigg]"
   ]
  },
  {
   "cell_type": "markdown",
   "metadata": {},
   "source": [
    "---\n",
    "\n",
    "- $\\wp(C|A)$:\n",
    "    $$\n",
    "    \\wp(C|A)(d, \\theta, \\lambda, \\lambda_A) = \\frac{\\lambda\\lambda_A^2}{\\lambda + \\lambda_A}\\bigg[1 - \\exp\\bigg(-d\\bigg(\\frac{1}{\\lambda} + \\frac{1}{\\lambda_A}\\bigg)\\bigg)\\bigg] - \\frac{\\lambda\\lambda_A^2\\cos(\\theta)}{\\cos(\\theta)\\lambda_A - \\lambda}e^{\\frac{d}{\\cos(\\theta)\\lambda_A}}\\bigg[1 -  \\exp\\bigg(- d\\bigg(\\frac{1}{\\lambda}-\\frac{1}{\\cos(\\theta)\\lambda_A}\\bigg)\\bigg)\\bigg]\n",
    "    $$\n",
    "    "
   ]
  }
 ],
 "metadata": {
  "language_info": {
   "name": "python"
  }
 },
 "nbformat": 4,
 "nbformat_minor": 2
}
