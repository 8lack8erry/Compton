{
 "cells": [
  {
   "cell_type": "markdown",
   "metadata": {},
   "source": [
    "# Calculus of the real number of the scattered photons\n",
    "\n",
    "The cross section of a scattering process is given by the formula: \n",
    "$$\n",
    "\\sigma = \\frac{N_e}{N_c I}\n",
    "$$\n",
    "where:\n",
    "- $N_e$ is the **number of events**, we know that not all the scattering photns where reveald by the detector, because it has a certain efficiency, $\\epsilon_{spettroscopy}$, so the number of reveal events follow the equation: \n",
    "    $$\n",
    "    N_e^{observed} = N_e \\epsilon_{spettroscopy}\n",
    "    $$\n",
    "\n",
    "- $N_c$ is the **number of scattering centers** that, at the first approximation, follow the equation: \n",
    "    $$\n",
    "    N_c = \\rho N_a \\frac{Z}{\\text{MM}} V\n",
    "    $$\n",
    "    where: \n",
    "    - $\\rho$ is the density of the scattering target\n",
    "    - $N_a$ is the Avogadro number\n",
    "    - $Z$ is the atomic number of the scattering target\n",
    "    - $\\text{MM}$ is the molar mass of the scattering target\n",
    "    - $V$ is the volume\n",
    "\n",
    "- $I$ is the **intensity of the beam** that follow the equation: \n",
    "    $$\n",
    "    I = S \\epsilon_{gate} \\frac{\\Delta\\Omega}{4\\pi}\n",
    "    $$\n",
    "    where: \n",
    "    - $S$ is the activity of the source\n",
    "    - $\\epsilon_{gate}$ is the efficiency of the gate detector\n",
    "    - $\\frac{\\Delta\\Omega}{4\\pi}$ is the solid angle\n"
   ]
  },
  {
   "cell_type": "markdown",
   "metadata": {},
   "source": [
    "We can now rewrite the first equation with all the therms: \n",
    "$$\n",
    "\\sigma = \\frac{N_e^{observed}}{\\epsilon_{spettroscopy}}\\frac{\\text{MM}}{\\rho N_a Z S V}\\frac{4\\pi}{\\Delta\\Omega}\n",
    "$$\n",
    "$$\n",
    "\\Rightarrow\\, N_e = \\sigma \\frac{\\rho N_a Z S V}{\\text{MM}}\\frac{\\Delta\\Omega}{4\\pi}\n",
    "$$\n",
    "We can think to write the cross section for the Compton scattering as the probability of have a Compton scattering, $\\wp(C)$, over the probability of have a second Compton scattering, $\\wp(C|C)$, or that the photon is absorbed after the first scattering, $\\wp(C|A)$.\n",
    "$$\n",
    "\\sigma \\propto \\frac{\\wp(C)}{\\wp(C|C)\\wp(C|A)}"
   ]
  },
  {
   "cell_type": "markdown",
   "metadata": {},
   "source": [
    "## Probabilities\n",
    "We have to find the probabilities: we want that $\\wp(C)(d,\\theta, \\lambda, \\lambda')$ is the probability of a single Compton so we multiply the factor that represent the the probability to have a Compton scattering in a distance $x$ with the factor that represent the probability to don't have other scatter in the rest of the path followed by the photon, $\\frac{x-d}{\\lambda'}$.\n",
    "$$\n",
    "\\wp(C)(d,\\theta, \\lambda, \\lambda') = \\int_0^d\\,dx\\, e^{-\\frac{x}{\\lambda}}e^{\\frac{x-d}{\\cos(\\theta)\\lambda'}}\n",
    "$$\n",
    "For $\\wp(C|C)(d, \\theta, \\lambda, \\lambda')$ and $\\wp(C|A)(d, \\theta, \\lambda, \\lambda_A)$ we want to compute the probability to have other Compton scattering or the photon assorbition after the first Compton. \n",
    "$$\n",
    "\\wp(C|C)(d, \\theta, \\lambda, \\lambda') = \\int_0^d\\,dx\\, e^{-\\frac{x}{\\lambda}}\\int_{x}^{\\frac{x-d}{\\cos(\\theta)}}\\,dy\\, e^{-\\frac{y}{\\lambda'}}\n",
    "$$\n",
    "$$\n",
    "\\wp(C|A)(d, \\theta, \\lambda, \\lambda_A) = \\int_0^d\\,dx\\, e^{-\\frac{x}{\\lambda}}\\int_{x}^{\\frac{x-d}{\\cos(\\theta)}}\\,dy\\, e^{-\\frac{y}{\\lambda_A}}\n",
    "$$\n",
    "\n",
    "For real these are not probabilities because they aren't normalized, so we have to be very carefull and search a correct normalization factor."
   ]
  },
  {
   "cell_type": "markdown",
   "metadata": {},
   "source": [
    "### Integrals calculus "
   ]
  },
  {
   "cell_type": "markdown",
   "metadata": {},
   "source": [
    "- $\\wp(C)$:\n",
    "    $$\n",
    "    \\wp(C)(d, \\theta, \\lambda, \\lambda') = e^{-\\frac{d}{\\cos(\\theta)\\lambda'}}\\int_0^d\\,dx\\, \\exp\\bigg(x \\bigg(\\frac{1}{\\cos(\\theta)\\lambda'} - \\frac{1}{\\lambda}\\bigg)\\bigg) \n",
    "    $$\n",
    "    $$\n",
    "    = e^{-\\frac{d}{\\cos(\\theta)\\lambda'}} \\frac{\\lambda\\lambda'\\cos(\\theta)}{\\lambda - \\lambda'\\cos(\\theta)}\\bigg[\\exp\\bigg(d \\bigg(\\frac{1}{\\cos(\\theta)\\lambda'} - \\frac{1}{\\lambda}\\bigg)\\bigg) - 1\\bigg]\n",
    "    $$ \n",
    "    $$\n",
    "    \\wp(C)(\\theta, \\lambda, \\lambda')= \\frac{\\lambda\\lambda'\\cos(\\theta)}{\\lambda'\\cos(\\theta) -\\lambda}\\bigg[e^{-\\frac{d}{\\cos(\\theta)\\lambda'}} - e^{- \\frac{d}{\\lambda}}\\bigg]\n"
   ]
  },
  {
   "cell_type": "markdown",
   "metadata": {},
   "source": [
    "---\n",
    "\n",
    "- $\\wp(C|C)$:\n",
    "    $$\n",
    "    \\wp(C|C)(d, \\theta, \\lambda, \\lambda') = \\int_0^d\\,dx\\, e^{-\\frac{x}{\\lambda}}\\int_{x}^{\\frac{x-d}{\\cos(\\theta)}}\\,dy\\, e^{-\\frac{y}{\\lambda'}}\n",
    "    $$\n",
    "    $$\n",
    "    = \\int_0^d\\,dx\\, e^{-\\frac{x}{\\lambda}}\\lambda'\\bigg(e^{-\\frac{x}{\\lambda'}} - e^{-\\frac{x-d}{\\cos(\\theta)\\lambda'}}\\bigg)\n",
    "    $$\n",
    "    $$\n",
    "    = \\lambda'\\int_0^d\\,dx\\, \\exp\\bigg(-x\\bigg(\\frac{1}{\\lambda} + \\frac{1}{\\lambda'}\\bigg)\\bigg) - \\lambda'e^{\\frac{d}{\\cos(\\theta)\\lambda'}}\\int_0^d\\,dx\\, \\exp\\bigg(- x\\bigg(\\frac{1}{\\lambda}-\\frac{1}{\\cos(\\theta)\\lambda'}\\bigg)\\bigg)\n",
    "    $$\n",
    "    $$\n",
    "    = \\lambda'\\frac{\\lambda\\lambda'}{\\lambda + \\lambda'}\\bigg[1 - \\exp\\bigg(-d\\bigg(\\frac{1}{\\lambda} + \\frac{1}{\\lambda'}\\bigg)\\bigg)\\bigg] - \\lambda'e^{\\frac{d}{\\cos(\\theta)\\lambda'}}\\frac{\\lambda\\lambda'\\cos(\\theta)}{\\cos(\\theta)\\lambda' - \\lambda}\\bigg[1 -  \\exp\\bigg(- d\\bigg(\\frac{1}{\\lambda}-\\frac{1}{\\cos(\\theta)\\lambda'}\\bigg)\\bigg)\\bigg]\n",
    "    $$\n",
    "    $$\n",
    "    \\wp(C|C)(d, \\theta, \\lambda, \\lambda') = \\frac{\\lambda\\lambda'^2}{\\lambda + \\lambda'}\\bigg[1 - \\exp\\bigg(-d\\bigg(\\frac{1}{\\lambda} + \\frac{1}{\\lambda'}\\bigg)\\bigg)\\bigg] - \\frac{\\lambda\\lambda'^2\\cos(\\theta)}{\\cos(\\theta)\\lambda' - \\lambda}e^{\\frac{d}{\\cos(\\theta)\\lambda'}}\\bigg[1 -  \\exp\\bigg(- d\\bigg(\\frac{1}{\\lambda}-\\frac{1}{\\cos(\\theta)\\lambda'}\\bigg)\\bigg)\\bigg]\n",
    "    $$"
   ]
  },
  {
   "cell_type": "markdown",
   "metadata": {},
   "source": [
    "---\n",
    "\n",
    "- $\\wp(C|A)$:\n",
    "    $$\n",
    "    \\wp(C|A)(d, \\theta, \\lambda, \\lambda_A) = \\frac{\\lambda\\lambda_A^2}{\\lambda + \\lambda_A}\\bigg[1 - \\exp\\bigg(-d\\bigg(\\frac{1}{\\lambda} + \\frac{1}{\\lambda_A}\\bigg)\\bigg)\\bigg] - \\frac{\\lambda\\lambda_A^2\\cos(\\theta)}{\\cos(\\theta)\\lambda_A - \\lambda}e^{\\frac{d}{\\cos(\\theta)\\lambda_A}}\\bigg[1 -  \\exp\\bigg(- d\\bigg(\\frac{1}{\\lambda}-\\frac{1}{\\cos(\\theta)\\lambda_A}\\bigg)\\bigg)\\bigg]\n",
    "    $$\n",
    "    "
   ]
  }
 ],
 "metadata": {
  "language_info": {
   "name": "python"
  }
 },
 "nbformat": 4,
 "nbformat_minor": 2
}
