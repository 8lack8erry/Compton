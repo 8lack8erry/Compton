{
 "cells": [
  {
   "cell_type": "markdown",
   "id": "a48792c8",
   "metadata": {},
   "source": [
    "# Error bars\n",
    "\n",
    "Given the formula that links the differential cross section to the event rate measured by our experiment:\n",
    "\n",
    "$$\n",
    "\\frac{1}{\\epsilon_{spect}\\left(\\theta \\right)}\\frac{dN}{dt\\,d \\Omega_{spect}} = \\frac{N_{gate}}{T} \\cdot n_{c} \\cdot \\wp(\\theta; \\lambda', \\lambda '') \\cdot \\frac{d \\sigma}{d \\Omega}\n",
    "$$\n",
    "$$\n",
    "\\frac{1}{\\epsilon_{spect}\\left(\\theta \\right)}\\frac{dN}{dt\\,d \\Omega_{spect}} \\approx \\frac{1}{\\epsilon_{spect}\\left(\\theta \\right)}\\frac{N}{\\Delta T\\,\\Omega_{spect}} := m \\hspace{1cm} \\frac{N}{\\Delta T} := R\n",
    "$$\n",
    "\n",
    "with our equipment we were able to measure just the rate of events for a certain scattering angle, not the $\\Omega_{spect}$, which is computed by a MC simulation. \n",
    "\n",
    "Once settled this key concept it is crucial to correctly evaluate the uncertainities linked to these measurements. "
   ]
  },
  {
   "cell_type": "markdown",
   "id": "d7ec13b0",
   "metadata": {},
   "source": [
    "## Statistical and systematical uncertainties + work flow\n",
    "First thing first it is fundamental to distinguish between the various sources of errors one can come across during a measurement in a nuclear physics' experiment.\n",
    "In particular we need to separate the contributions given by $\\textit{statistical}$ and $\\textit{systematical}$ uncertainties:\n",
    "\n",
    "- Statistical uncertainities could come from the counting of photons or the errors associated to the fit parameters, a square sum will be used to take account of them.\n",
    "- Systematical uncertainties arise from various effects, such as the shift of the Compton peak, the errors associated with the geometrical measurements of the apparatus and so on, we'll take account of them with a square sum as well.\n",
    "\n",
    "To make sure randomness and bias are not mixed together these two kinds of uncertainties will be combined as:\n",
    "\n",
    "$$\n",
    "\\delta_{tot} = \\delta_{statistic} + \\delta_{systematic}\n",
    "$$\n",
    "\n",
    "so that one can split the two contributes in:\n",
    "\n",
    "$$ \\left(\\frac{\\delta Q_{stat}}{Q} \\right)^2 = \\sum_{X \\, \\in \\, (d \\Omega_{spect}, \\epsilon_{spect}, n_{gate}, n_c, \\wp)}  \\left(\\frac{\\delta X_{stat}}{X} \\right)^2 $$\n",
    "$$ \\left(\\frac{\\delta Q_{sist}}{Q} \\right)^2 = \\sum_{X \\, \\in \\, (d \\Omega_{spect}, \\epsilon_{spect}, n_{gate}, n_c, \\wp)}  \\left(\\frac{\\delta X_{sist}}{X} \\right)^2 $$\n",
    "\n",
    "\n",
    "By looking at the expression above one could come up with an expression for the uncertainty that looks like:\n",
    "\n",
    "\n",
    "$$\n",
    "\\delta m= \\underbrace{\\left(\\frac{\\partial m}{\\partial R} \\right)\\delta R \\oplus \\frac{1}{\\sqrt{N}} \\oplus \\left(\\frac{\\partial m}{\\partial N} \\right) \\delta N}_{\\delta_{statistic}} + \\underbrace{\\left(\\frac{\\partial m}{\\partial \\Omega_{spect}} \\right) \\delta \\Omega_{spect} \\oplus \\left(\\frac{\\partial m}{\\partial \\epsilon_{spect}} \\right) \\delta \\epsilon_{spect} \\oplus m\\left[\\left(\\frac{\\delta N_{gate}}{N_{gate}} \\right) \\oplus \\left(\\frac{\\delta n_c}{n_c} \\right) \\oplus \\left(\\frac{\\delta \\wp}{\\wp} \\right)\\right]}_{\\delta_{systematic}}\n",
    "$$\n",
    "\n",
    "assuming every quantity considered in this expression is independent from one another and has a relatively small error associated to it.\n"
   ]
  },
  {
   "cell_type": "markdown",
   "id": "6b8b9bee",
   "metadata": {},
   "source": [
    "## Systematic uncertainties\n",
    "### $n_c$ uncertainty\n",
    "\n",
    "Given:\n",
    "\n",
    "$$\n",
    "n_c = \\rho \\frac{N_a \\cdot Z}{MM}\n",
    "$$\n",
    "\n",
    "where: \n",
    "- $\\rho$ is the density of the scattering target\n",
    "- $N_a$ is the Avogadro number\n",
    "- $\\text{MM}$ is the molar mass of the scattering target\n",
    "\n",
    "One can clearly see that all these quantities are known with extreme accuracy, we won't take account of their uncertainties."
   ]
  },
  {
   "cell_type": "markdown",
   "id": "cee84ea8",
   "metadata": {},
   "source": [
    "### $\\epsilon_{spect}$ uncertainty\n",
    "\n",
    "In this case the value of $\\epsilon_{spect}$ is obtained by an interpolation, the error associated to it will then be consider as a statistical uncertainty. Given the formula used to fit the efficiency curve: \n",
    "\n",
    "$$\n",
    "\\epsilon_{spect} = A \\cdot E^{-B} \\cdot \\exp(-C \\cdot E) + D\n",
    "$$\n",
    "\n",
    "where $A,B,C,D$ are all model parameters and $E$ is the energy of the incoming gamma ray. Given that, one can compute the error associated to this quantity as:\n",
    "\n",
    "$$\n",
    "\\delta \\epsilon = \\left( \\frac{\\partial \\epsilon}{\\partial A} \\cdot \\delta A \\right) \\oplus \\left( \\frac{\\partial \\epsilon}{\\partial B} \\cdot \\delta B \\right) \\oplus \\left( \\frac{\\partial \\epsilon}{\\partial C} \\cdot \\delta C \\right) \\oplus \\left( \\frac{\\partial \\epsilon}{\\partial D} \\cdot \\delta D \\right)\n",
    "$$\n",
    "\n",
    "$$\n",
    "\\delta \\epsilon = \\sqrt{\\left[E^{-B} \\cdot e^{-CE} \\cdot \\delta A \\right]^2 + \\left[A \\cdot E^{-B} \\cdot e^{-CE} \\cdot \\ln(B) \\cdot \\delta B \\right]^2 + \\left[A \\cdot E^{-B} \\cdot e^{-CE} \\cdot E \\cdot \\delta C \\right]^2 + \\left[ \\delta D \\right]^2}\n",
    "$$\n",
    "\n"
   ]
  },
  {
   "cell_type": "code",
   "execution_count": 1,
   "id": "f064d7d7",
   "metadata": {},
   "outputs": [
    {
     "name": "stdout",
     "output_type": "stream",
     "text": [
      "\n",
      "Incertezza sull'efficienza (δϵ) a E = 511.00 è 0.009780\n"
     ]
    }
   ],
   "source": [
    "import numpy as np\n",
    "\n",
    "# Parametri del fit e le relative incertezze\n",
    "A = 1.5604\n",
    "delta_A = 1.2255\n",
    "\n",
    "B = -0.0995\n",
    "delta_B = 0.04328\n",
    "\n",
    "C = 3.53466\n",
    "delta_C = 1.00558\n",
    "\n",
    "D = 0.10210\n",
    "delta_D = 0.00978\n",
    "\n",
    "def epsilon_spettrometer(theta): \n",
    "\n",
    "    A = 1.5604\n",
    "    B = -0.0995\n",
    "    C = 3.53466\n",
    "    D = 0.10210\n",
    "    \n",
    "    E  = 511/(2 - np.cos(theta)) * 1e-3 #da MeV a keV\n",
    "\n",
    "    return A * pow(E, -B) * np.exp(-C * E) + D\n",
    "\n",
    "\n",
    "def delta_eff(E):\n",
    "    term1 = E**(-2 * B) * np.exp(-2 * C * E) * delta_A**2\n",
    "    term2 = A**2 * E**(-2 * B) * np.exp(-2 * C * E) * (np.log(E))**2 * delta_B**2\n",
    "    term3 = A**2 * E**(-2 * B) * np.exp(-2 * C * E) * (E**2) * delta_C**2 \n",
    "    term4 = delta_D**2\n",
    "\n",
    "    delta_epsilon = np.sqrt(term1 + term2 + term3 + term4)\n",
    "    return delta_epsilon\n",
    "\n",
    "E_input = 511 \n",
    "result = delta_eff(E_input)\n",
    "print(f\"\\nIncertezza sull'efficienza (δϵ) a E = {E_input:.2f} è {result:.6f}\")\n"
   ]
  },
  {
   "cell_type": "markdown",
   "id": "353213cb",
   "metadata": {},
   "source": [
    "### $n_{gate}$ uncertainty\n",
    "\n",
    "Given: \n",
    "\n",
    "$$\n",
    "n_{gate} = 2 \\cdot S \\left(t \\right) \\cdot \\text{BR} \\cdot \\frac{\\Delta\\Omega}{4\\pi} \\cdot \\epsilon_{gate}(511)\n",
    "$$\n",
    "\n",
    "where: \n",
    "- $S(t)$ is the activity of the source in Bq\n",
    "- $\\text{BR}$ is the branching ratio of the 511 keV photon\n",
    "- $\\frac{\\Delta\\Omega}{4\\pi}$ is the solid angle\n",
    "- $\\epsilon_{gate}(511)$ is the efficiency of the gate detector for the 511 keV photon\n",
    "\n",
    "In this case one can assume that the branching ratio (BR) is well known, the uncertainties linked to $S \\left(t \\right)$ and $\\epsilon_{gate}$ are statistical errors and the one associated to $\\Delta \\Omega$ is systematical.\n",
    "\n",
    "#### $\\delta S(t)$ computation\n",
    "For this uncertainty, an error of 0.5 cm in the distance from the detector and 3 mm in the displacement from the detector axis was considered. The acquisition times were assumed to be error-free, as they were set within the Maestro application. For the number of counts, the uncertainty associated with Poisson statistics was taken into account.\n",
    "The associated error is then:\n",
    "\n",
    "$$\n",
    "\\delta S \\left( t \\right) = 11647 \\ Bq.\n",
    "$$\n",
    "\n",
    "#### $\\delta \\epsilon_{gate}$ computation\n",
    "\n",
    "For this computation please refer to the previous section.\n",
    "We impose a 2.5% error on each point and from the linear fit we gain:\n",
    "\n",
    "$$\n",
    "\\delta \\epsilon_{gate} (511) = 0.01672   \n",
    "$$\n",
    "\n",
    "#### $\\delta (\\Delta \\Omega / 4\\pi)$ computation\n",
    "\n",
    "For the uncertainty linked to the measurement of the solid angle covered by the spectrometer one can start from the formula:\n",
    "\n",
    "$$\n",
    "\\frac{\\Delta\\Omega}{4\\pi} =  \\frac{1 - \\cos (\\beta)}{2}\n",
    "$$\n",
    "\n",
    "where $\\beta$ is computed as: \n",
    "\n",
    "$$\n",
    "\\beta = \\arctan \\left( \\frac{r_{gate}}{d_{source-gate}} \\right).\n",
    "$$\n",
    "\n",
    "Both of these two measurements are known with their uncertainty, $r_{gate} = (1,27 \\pm 0,01) \\, cm$ and ${d_{source-gate}} = d =(18.54 \\pm 0.5) \\, cm$, knowing that one can propagate the errors using the error propagation expression.\n",
    "\n",
    "$$\n",
    "\\left(\\delta (\\Delta \\Omega / 4\\pi) \\right) = \\left( \\frac{\\partial (\\Delta \\Omega / 4\\pi)}{\\partial r} \\delta r\\right) \\oplus \\left( \\frac{\\partial (\\Delta \\Omega / 4\\pi)}{\\partial d} \\delta d\\right)\n",
    "$$\n",
    "\n",
    "and that:\n",
    "\n",
    "$$\n",
    "\\frac{\\partial (\\Delta \\Omega / 4\\pi)}{\\partial r} = \\frac{r}{2 d^2 \\cdot \\left( \\frac{r^2}{d^2} + 1 \\right)^{3/2}}\n",
    "$$\n",
    "\n",
    "$$\n",
    "\\frac{\\partial (\\Delta \\Omega / 4\\pi)}{\\partial d} = - \\frac{r^2}{2 d^3 \\cdot \\left( \\frac{r^2}{d^2} + 1 \\right)^{3/2}}\n",
    "$$\n",
    "\n",
    "one can find the uncertainty asssociated to the solid angle using the formula below:\n",
    "\n",
    "$$\n",
    "\\delta \\left(\\Delta \\Omega / 4\\pi \\right) = \\sqrt{\\left(\\frac{r}{2 d^2 \\cdot \\left( \\frac{r^2}{d^2} + 1 \\right)^{3/2}} \\cdot \\delta r \\right)^2 + \\left(\\frac{r^2}{2 d^3 \\cdot\\left( \\frac{r^2}{d^2} + 1 \\right)^{3/2}} \\cdot \\delta d \\right)^2}\n",
    "$$\n"
   ]
  },
  {
   "cell_type": "code",
   "execution_count": 2,
   "id": "4b8ba78d",
   "metadata": {},
   "outputs": [
    {
     "name": "stdout",
     "output_type": "stream",
     "text": [
      "Incertezza sulla frazione di angolo solido ΔΩ/4π: 0.01468969384187046 +/- 6.545346664430829e-05\n",
      "\n",
      "Numero di eventi nella regione di gate (Ngate): 736.68 ± 0.13\n"
     ]
    }
   ],
   "source": [
    "import math\n",
    "\n",
    "# Valori noti (convertiti in metri se vuoi usare il SI, qui rimangono in cm)\n",
    "r = 1.27       # cm\n",
    "delta_r = 0.01 # cm\n",
    "d = 18.54       # cm\n",
    "delta_d = 0.5  # cm\n",
    "\n",
    "term1  = r * delta_r / (2 * d**2 * (r**2/d**2 + 1)**(3/2))\n",
    "term2 = r**2 * delta_d / (2 * d**3 * (r**2/d**2 + 1)**(3/2))\n",
    "\n",
    "delta_Omega = np.sqrt(term1**2 + term2**2)\n",
    "\n",
    "Omega = 2 * np.pi * (1-np.cos(np.arctan(r/d)))\n",
    "\n",
    "print(f\"Incertezza sulla frazione di angolo solido ΔΩ/4π:\",Omega ,\"+/-\", delta_Omega)\n",
    "\n",
    "BR = 0.903\n",
    "epsilon = 0.147\n",
    "delta_epsilon = 0.01672\n",
    "S = 188900 \n",
    "delta_S = 11647\n",
    "\n",
    "Ngate = 2 * BR * epsilon * S * Omega\n",
    "delta_Ngate = np.sqrt((delta_epsilon / epsilon) ** 2 + (delta_S / S) ** 2 + (delta_Omega / Omega) ** 2)\n",
    "print(f\"\\nNumero di eventi nella regione di gate (Ngate): {Ngate:.2f} ± {delta_Ngate:.2f}\")"
   ]
  },
  {
   "cell_type": "markdown",
   "id": "88c07b25",
   "metadata": {},
   "source": [
    "### $d \\Omega_{spect}$ uncertainty\n",
    "\n",
    "In questa sezione faccio riferimento al disegno che ha fatto Andre per il calcolo dell'angolo solido.\n",
    "\n",
    "Since we are computing a solid angle, the formula used to compute it is the same as always:\n",
    "\n",
    "$$\n",
    "d \\Omega = 2 \\pi \\cdot \\left( 1 - \\cos \\beta \\right)\n",
    "$$\n",
    "\n",
    "$$\n",
    "\\delta \\Omega_{spect} = \\oplus \\text{IQR}_{\\Omega}\n",
    "$$\n"
   ]
  },
  {
   "cell_type": "code",
   "execution_count": 3,
   "id": "51034057",
   "metadata": {},
   "outputs": [
    {
     "name": "stdout",
     "output_type": "stream",
     "text": [
      "\n",
      "Incertezze sulla frazione di angolo solido per la riflessione:\n",
      " [0.001476859791490797, 0.001826765948870511, 0.00174062856617508, 0.0011169944695525735, 0.0004845506083612887, 0.0005718801675267428, 0.0010008257127981542, 0.0011133157697127312]\n",
      "\n",
      "Incertezze sulla frazione di angolo solido per la trasmissione:\n",
      " [0.0008435438465544606, 0.0006416314210639269, 0.0008892136137358744, 0.0008897971792260553]\n"
     ]
    }
   ],
   "source": [
    "def parse_measurement_file(filepath):\n",
    "    from collections import defaultdict\n",
    "\n",
    "    # Initialize dictionary containers\n",
    "    solid_angles_reflection = {}\n",
    "    solid_angles_transmission = {}\n",
    "    a_param_reflection = {}\n",
    "    a_param_transmission = {}\n",
    "    b_param_reflection = {}\n",
    "    b_param_transmission = {}\n",
    "\n",
    "    # Mapping section and mode to corresponding dict\n",
    "    section_map = {\n",
    "        ('Solid Angles', 'Reflection'): solid_angles_reflection,\n",
    "        ('Solid Angles', 'Trasmission'): solid_angles_transmission,\n",
    "        ('A param', 'Reflection'): a_param_reflection,\n",
    "        ('A param', 'Trasmission'): a_param_transmission,\n",
    "        ('B param', 'Reflection'): b_param_reflection,\n",
    "        ('B param', 'Trasmission'): b_param_transmission,\n",
    "    }\n",
    "\n",
    "    current_section = None\n",
    "    current_mode = None\n",
    "    collecting_data = False\n",
    "\n",
    "    with open(filepath, 'r') as f:\n",
    "        for line in f:\n",
    "            line = line.strip()\n",
    "\n",
    "            if not line or set(line) == {'*'}:\n",
    "                collecting_data = False\n",
    "                continue\n",
    "\n",
    "            # Section headers\n",
    "            if line in {'Solid Angles', 'A param', 'B param'}:\n",
    "                current_section = line\n",
    "                current_mode = None  # reset until mode is found\n",
    "                continue\n",
    "\n",
    "            # Mode headers\n",
    "            if line in {'Reflection', 'Trasmission'}:\n",
    "                current_mode = line\n",
    "                continue\n",
    "\n",
    "            # Header line before data\n",
    "            if line.startswith('Angle Mean Median'):\n",
    "                collecting_data = True\n",
    "                continue\n",
    "\n",
    "            # Data lines\n",
    "            if collecting_data and current_section and current_mode:\n",
    "                parts = line.split()\n",
    "                if len(parts) == 5:\n",
    "                    angle = int(parts[0])\n",
    "                    mean = float(parts[1])\n",
    "                    median = float(parts[2])\n",
    "                    std = float(parts[3])\n",
    "                    iqr = float(parts[4])\n",
    "                    section_map[(current_section, current_mode)][angle] = [mean, median, std, iqr]\n",
    "\n",
    "    return (\n",
    "        solid_angles_reflection,\n",
    "        solid_angles_transmission,\n",
    "        a_param_reflection,\n",
    "        a_param_transmission,\n",
    "        b_param_reflection,\n",
    "        b_param_transmission,\n",
    "    )\n",
    "\n",
    "SA_riflection, SA_trasmission, A_riflection, A_trasmission, B_riflection, B_trasmission = parse_measurement_file(\"solid_angle.txt\")\n",
    "\n",
    "delta =  0.025\n",
    "C = 5.08\n",
    "delta_C = 0.01\n",
    "\n",
    "dictionary = {\"Mean\": 0, \"Median\": 1, \"STD\": 2, \"IQR\": 3}\n",
    "\n",
    "trasmission_angles = [35, 40, 50, 60]\n",
    "riflection_angles = [40, 50, 60, 70, 80, 90, 100, 110]\n",
    "\n",
    "Omega_riflection = [SA_riflection[angle][dictionary['Median']] for angle in riflection_angles]\n",
    "Omega_riflection_err = [SA_riflection[angle][dictionary['IQR']] for angle in riflection_angles]\n",
    "\n",
    "Omega_trasmission = [SA_trasmission[angle][dictionary['Median']] for angle in trasmission_angles]\n",
    "Omega_trasmission_err = [SA_trasmission[angle][dictionary['IQR']] for angle in trasmission_angles]\n",
    "\n",
    "\n",
    "delta_Omega_riflection = Omega_riflection_err\n",
    "delta_Omega_trasmission = Omega_trasmission_err\n",
    "\n",
    "print(\"\\nIncertezze sulla frazione di angolo solido per la riflessione:\\n\", delta_Omega_riflection)\n",
    "print(\"\\nIncertezze sulla frazione di angolo solido per la trasmissione:\\n\", delta_Omega_trasmission)"
   ]
  },
  {
   "cell_type": "markdown",
   "id": "7d375340",
   "metadata": {},
   "source": [
    "We decide to use just the statistical error on the $\\Omega_{spect}$.\n"
   ]
  },
  {
   "cell_type": "markdown",
   "id": "55478c9b",
   "metadata": {},
   "source": [
    "### Result systematic uncertainities\n",
    "\n",
    "$$\n",
    "\\delta_{systematic} = \\left(\\frac{\\partial m}{\\partial \\Omega_{spect}} \\right) \\delta \\Omega_{spect} \\oplus \\left(\\frac{\\partial m}{\\partial \\epsilon_{spect}} \\right) \\delta \\epsilon_{spect} \\oplus m\\left[\\left(\\frac{\\delta N_{gate}}{N_{gate}} \\right) \\oplus \\left(\\frac{\\delta n_c}{n_c} \\right) \\oplus \\left(\\frac{\\delta \\wp}{\\wp} \\right)\\right]\n",
    "$$\n",
    "\n",
    "where:\n",
    "$$\n",
    "\\frac{\\partial m}{\\partial \\Omega_{spect}} = \\frac{\\partial }{\\partial \\Omega_{spect}}\\bigg(\\frac{R}{\\Omega_{spect}\\epsilon_{spect}}\\bigg) = -\\frac{R}{\\Omega_{spect}^2\\epsilon_{spect}} \\hspace{1cm} \\frac{\\partial m}{\\partial \\epsilon_{spect}} = \\frac{\\partial }{\\partial \\epsilon_{spect}}\\bigg(\\frac{R}{\\Omega_{spect}\\epsilon_{spect}}\\bigg) = -\\frac{R}{\\Omega_{spect}\\epsilon_{spect}^2}\n",
    "$$"
   ]
  },
  {
   "cell_type": "code",
   "execution_count": 4,
   "id": "21b423cb",
   "metadata": {},
   "outputs": [],
   "source": [
    "def leggi_dati(file_path):\n",
    "    # Inizializza liste per ogni colonna\n",
    "    angle, rate, err_rate = [], [], []\n",
    "    count, err_count = [], []\n",
    "    channel, err_channel = [], []\n",
    "    sigma, err_sigma = [], []\n",
    "\n",
    "    with open(file_path, 'r') as file:\n",
    "        lines = file.readlines()\n",
    "\n",
    "        # Salta l'intestazione\n",
    "        for line in lines[1:]:\n",
    "            valori = line.strip().split()\n",
    "            if len(valori) != 9:\n",
    "                continue  # Salta righe non valide\n",
    "\n",
    "            angle.append(float(valori[0]))\n",
    "            rate.append(float(valori[1]))\n",
    "            err_rate.append(float(valori[2]))\n",
    "            count.append(float(valori[3]))\n",
    "            err_count.append(float(valori[4]))\n",
    "            channel.append(float(valori[5]))\n",
    "            err_channel.append(float(valori[6]))\n",
    "            sigma.append(float(valori[7]))\n",
    "            err_sigma.append(float(valori[8]))\n",
    "\n",
    "    return angle, rate, err_rate, count, err_count, channel, err_channel, sigma, err_sigma\n",
    "\n",
    "file_path = \"../Codes/data_analysis/parameters_pol4_riflection.txt\"\n",
    "\n",
    "angle_riflection, rate_riflection, err_rate_riflection, count_riflection, err_count_riflection, channel_riflection, err_channel_riflection, sigma_riflection, err_sigma_riflection = leggi_dati(file_path)\n",
    "\n",
    "file_path = \"../Codes/data_analysis/parameters_pol4_trasmission.txt\"\n",
    "\n",
    "angle_trasmission, rate_trasmission, err_rate_trasmission, count_trasmission, err_count_trasmission, channel_trasmission, err_channel_trasmission, sigma_trasmission, err_sigma_trasmission = leggi_dati(file_path)"
   ]
  },
  {
   "cell_type": "code",
   "execution_count": 5,
   "id": "a6d84974",
   "metadata": {},
   "outputs": [
    {
     "name": "stdout",
     "output_type": "stream",
     "text": [
      "0.0794160376680704 0.03323438334184104 0.0002584505312163802\n",
      "0.2501663339606242 0.0726093229804512 0.0006213480516344211\n",
      "0.16485550270492613 0.04798166087786202 0.00045053898091950697\n",
      "0.07033767323938103 0.028466962802951686 0.00029105642652450965\n",
      "0.022917021966129637 0.020039399587787225 0.000220872110786118\n",
      "0.018368009996315948 0.012814807910578107 0.00015064543362911783\n",
      "0.02727537848012279 0.010157449872916073 0.00012605222553695395\n",
      "0.03171383730639389 0.010327554821419763 0.0001340290590298547\n",
      "\n",
      "Incertezze sistematiche per la riflessione:\n",
      " [np.float64(0.08609005791429057), np.float64(0.2604912560996613), np.float64(0.17169676624230693), np.float64(0.07588043859782305), np.float64(0.030443656418446163), np.float64(0.02239700397500637), np.float64(0.02910559994774736), np.float64(0.033353318111913784)]\n",
      "\n",
      "\n",
      "0.06563171737726234 0.04915810808936112 0.0003648726696759583\n",
      "0.04153710587623571 0.03897592777822447 0.00030310023012376325\n",
      "0.0379888914733382 0.023168136219865774 0.00019825933791023219\n",
      "0.02544706344635015 0.014287326065651683 0.0001341553670280169\n",
      "\n",
      "Incertezze sistematiche per la trasmissione:\n",
      " [np.float64(0.08200106736426806), np.float64(0.05696091625401128), np.float64(0.044496715811848324), np.float64(0.029183877772004912)]\n"
     ]
    }
   ],
   "source": [
    "epsilon_riflection = [epsilon_spettrometer(np.radians(angle)) for angle in angle_riflection]\n",
    "epsilon_trasmission = [epsilon_spettrometer(np.radians(angle)) for angle in angle_trasmission]\n",
    "\n",
    "m_riflection = [rate / (Omega * epsilon) for rate, Omega, epsilon in zip(rate_riflection, Omega_riflection, epsilon_riflection)]\n",
    "m_trasmission = [rate / (Omega * epsilon) for rate, Omega, epsilon in zip(rate_trasmission, Omega_trasmission, epsilon_trasmission)]\n",
    "\n",
    "der_mOmega_riflection = [rate / (epsilon * Omega ** 2) for rate, Omega, epsilon in zip(rate_riflection, Omega_riflection, epsilon_riflection)]\n",
    "der_mOmega_trasmission = [rate / (epsilon * Omega ** 2) for rate, Omega, epsilon in zip(rate_trasmission, Omega_trasmission, epsilon_trasmission)]\n",
    "\n",
    "der_meff_riflection = [rate / (epsilon ** 2 * Omega) for rate, Omega, epsilon in zip(rate_riflection, Omega_riflection, epsilon_riflection)]\n",
    "der_meff_trasmission = [rate / (epsilon ** 2 * Omega) for rate, Omega, epsilon in zip(rate_trasmission, Omega_trasmission, epsilon_trasmission)]\n",
    "\n",
    "delta_systematic_riflection = []\n",
    "for rate, m, Omega, epsilon, der_mOmega, der_meff, err_Omega in zip(rate_riflection, m_riflection, Omega_riflection, epsilon_riflection, der_mOmega_riflection, der_meff_riflection, delta_Omega_riflection):\n",
    "    term1 = der_mOmega * err_Omega\n",
    "    term2 = der_meff * delta_eff(511)\n",
    "    term3 = m * delta_Ngate / Ngate\n",
    "    print(term1, term2, term3)\n",
    "    delta_systematic_riflection.append(np.sqrt(term1**2 + term2**2 + term3**2))\n",
    "\n",
    "print(\"\\nIncertezze sistematiche per la riflessione:\\n\", delta_systematic_riflection)\n",
    "print(\"\\n\")\n",
    "\n",
    "delta_systematic_trasmission = []\n",
    "for rate, m, Omega, epsilon, der_mOmega, der_meff, err_Omega in zip(rate_trasmission, m_trasmission, Omega_trasmission, epsilon_trasmission, der_mOmega_trasmission, der_meff_trasmission, delta_Omega_trasmission):\n",
    "    term1 = der_mOmega * err_Omega\n",
    "    term2 = der_meff * delta_eff(511)\n",
    "    term3 = m * delta_Ngate / Ngate\n",
    "    print(term1, term2, term3)\n",
    "    delta_systematic_trasmission.append(np.sqrt(term1**2 + term2**2 + term3**2))\n",
    "print(\"\\nIncertezze sistematiche per la trasmissione:\\n\", delta_systematic_trasmission)"
   ]
  },
  {
   "cell_type": "markdown",
   "id": "632d6345",
   "metadata": {},
   "source": [
    "## Statistic uncertainities\n",
    "$$\n",
    "\\delta_{statistic} = \\left(\\frac{\\partial m}{\\partial R} \\right)\\delta R \\oplus \\frac{1}{\\sqrt{N}} \\oplus \\left(\\frac{\\partial m}{\\partial N} \\right) \\delta N\n",
    "$$\n",
    "where: \n",
    "$$\n",
    "\\frac{\\partial m}{\\partial R} = \\frac{1}{\\Omega_{spect}\\epsilon_{spect}} \\hspace{1cm} \\frac{\\partial m}{\\partial N}= \\frac{1}{\\Delta T \\,\\Omega_{spect}\\epsilon_{spect}}\n",
    "$$"
   ]
  },
  {
   "cell_type": "code",
   "execution_count": 6,
   "id": "12914b04",
   "metadata": {},
   "outputs": [
    {
     "name": "stdout",
     "output_type": "stream",
     "text": [
      "0.01098204985658682 0.007621118909339405 0.019827231886393154\n",
      "0.03090227142187669 0.00878203809420853 0.031063200070671256\n",
      "0.024740829809253614 0.009595974526959023 0.02459766995375024\n",
      "0.012694501983611547 0.0076576098793179935 0.012682848524018266\n",
      "0.008587927303877117 0.00702489043056506 0.008832304261679198\n",
      "0.006871899797656779 0.008225703812845509 0.007053792511056189\n",
      "0.0071511795019193435 0.010240667483882205 0.007344576653554961\n",
      "0.007756389467901234 0.010358273741133068 0.007898742821032832\n",
      "\n",
      "Incertezze statistiche per la riflessione:\n",
      " [np.float64(0.023912465300751713), np.float64(0.04468777204952175), np.float64(0.036183376762349395), np.float64(0.01951010036773103), np.float64(0.014181367335662635), np.float64(0.012831258661360109), np.float64(0.014489770357188491), np.float64(0.015160657987924988)]\n",
      "\n",
      "\n",
      "0.01723497045454707 0.00851911148801243 0.01769002912540502\n",
      "0.019945306736129827 0.01139776003596233 0.019651762731812\n",
      "0.011131166843881496 0.009616851795116267 0.010855149614585398\n",
      "0.010035704852281906 0.012959936664425884 0.00989977529512092\n",
      "\n",
      "Incertezze statistiche per la trasmissione:\n",
      " [np.float64(0.02612578415228859), np.float64(0.030231043202362713), np.float64(0.018281711815653127), np.float64(0.01914891331438762)]\n"
     ]
    }
   ],
   "source": [
    "T_riflection = [43000 * 13, 43000 * 6 + 40184, 43000 * 6 + 31193 + 10254, 16 * 43000, 23 * 43000, 22 * 43000 + 41203, 43000 * 17, 43000 * 14 + 29739]\n",
    "T_trasmission = [43000 * 14, 43000 * 9, 43200 * 17 + 27346, 43000 * 13]\n",
    "\n",
    "delta_statistic_riflection = []\n",
    "for m, N, R, Omega, T, err_R, err_N, epsilon in zip(m_riflection, count_riflection, rate_riflection, Omega_riflection, T_riflection, err_rate_riflection, err_count_riflection, epsilon_riflection):\n",
    "    term1 = (1 / (Omega * epsilon)) * err_R\n",
    "    term2 = (1 / np.sqrt(N))\n",
    "    term3 = (1 / (Omega * T * epsilon)) * err_N\n",
    "    print(term1, term2, term3)\n",
    "    delta_statistic_riflection.append(np.sqrt(term1**2 + term2**2 + term3**2))\n",
    "\n",
    "print(\"\\nIncertezze statistiche per la riflessione:\\n\", delta_statistic_riflection)\n",
    "print(\"\\n\")\n",
    "\n",
    "delta_statistic_trasmission = []\n",
    "for m, N, R, Omega, T, err_R, err_N, epsilon in zip(m_trasmission, count_trasmission, rate_trasmission, Omega_trasmission, T_trasmission, err_rate_trasmission, err_count_trasmission, epsilon_trasmission):\n",
    "    term1 = (1 / (Omega * epsilon)) * err_R\n",
    "    term2 = (1 / np.sqrt(N))\n",
    "    term3 = (1 / (Omega * T * epsilon)) * err_N\n",
    "    print(term1, term2, term3)\n",
    "    delta_statistic_trasmission.append(np.sqrt(term1**2 + term2**2 + term3**2))\n",
    "\n",
    "print(\"\\nIncertezze statistiche per la trasmissione:\\n\", delta_statistic_trasmission)"
   ]
  },
  {
   "cell_type": "markdown",
   "id": "a24fb8d6",
   "metadata": {},
   "source": [
    "## Final results\n",
    "\n",
    "Knowing all the information we need, the uncertainty on the rate measurement can be expressed as:\n",
    "\n",
    "$$\n",
    "\\delta m = \\delta_{statistic} + \\delta_{systematic}\n",
    "$$"
   ]
  },
  {
   "cell_type": "code",
   "execution_count": 7,
   "id": "7f069892",
   "metadata": {},
   "outputs": [
    {
     "name": "stdout",
     "output_type": "stream",
     "text": [
      "0.08609005791429057 0.023912465300751713\n",
      "0.2604912560996613 0.04468777204952175\n",
      "0.17169676624230693 0.036183376762349395\n",
      "0.07588043859782305 0.01951010036773103\n",
      "0.030443656418446163 0.014181367335662635\n",
      "0.02239700397500637 0.012831258661360109\n",
      "0.02910559994774736 0.014489770357188491\n",
      "0.033353318111913784 0.015160657987924988\n",
      "\n",
      "Incertezze totali per la riflessione:\n",
      " [np.float64(0.3316662829035268), np.float64(0.5524301115518442), np.float64(0.4559387491809139), np.float64(0.30885358823486914), np.float64(0.2112463579664956), np.float64(0.1876919354590561), np.float64(0.2087950437748364), np.float64(0.2202588842699399)]\n",
      "\n",
      "\n",
      "0.08200106736426806 0.02612578415228859\n",
      "0.05696091625401128 0.030231043202362713\n",
      "0.044496715811848324 0.018281711815653127\n",
      "0.029183877772004912 0.01914891331438762\n",
      "\n",
      "Incertezze totali per la trasmissione:\n",
      " [np.float64(0.32882647630103734), np.float64(0.2952828465325644), np.float64(0.2505562364570107), np.float64(0.21984719940538822)]\n"
     ]
    }
   ],
   "source": [
    "delta_total_riflection = []\n",
    "for systematic, statistic in zip(delta_systematic_riflection, delta_statistic_riflection):\n",
    "    print(systematic, statistic)\n",
    "    delta_total_riflection.append(np.sqrt(systematic + statistic))\n",
    "\n",
    "print(\"\\nIncertezze totali per la riflessione:\\n\", delta_total_riflection)\n",
    "print(\"\\n\")\n",
    "\n",
    "delta_total_trasmission = []\n",
    "for systematic, statistic in zip(delta_systematic_trasmission, delta_statistic_trasmission):\n",
    "    print(systematic, statistic)\n",
    "    delta_total_trasmission.append(np.sqrt(systematic + statistic))\n",
    "\n",
    "print(\"\\nIncertezze totali per la trasmissione:\\n\", delta_total_trasmission)"
   ]
  },
  {
   "cell_type": "markdown",
   "id": "5371ae4b",
   "metadata": {},
   "source": [
    "# Energy uncertainties\n",
    "\n",
    "On the x-axis of our Klein-Nishina plot we put the scattering angles, linked to these quantities there are a few uncertainty factors such as:\n",
    "- The shift in the position of the Compton peak due to temperature instability and other environmental factors.\n",
    "- The error associated to the measurement of the scattering angle. \n",
    "- The uncertainty linked to the spectrometer resolution, which, of course, is not ideal.\n",
    "- The statistic error derived from the gaussian fit of the Compton peak.\n",
    "\n",
    "While these first three factors have a systematic nature, the last one can be considered as strictly statistical. Knowing this it is crucial to transform every energy-related quantity into an angle-related quantity, one can do that simply by using the inverted Compton formula shown below:\n",
    "\n",
    "$$\n",
    "\\theta (E') = \\arccos \\left[2- \\frac{511}{E'} \\right]\n",
    "$$\n",
    "\n",
    "that gives rise to the associated uncertainty formula, which is:\n",
    "\n",
    "$$\n",
    "\\delta \\theta = \\left |\\frac{511}{E'^2 \\cdot \\sqrt{1 - \\left(2 - \\frac{511}{E'} \\right)^2}} \\right | \\cdot \\delta E' \n",
    "$$\n",
    "\n",
    "\n",
    "\n",
    "\n",
    "\n"
   ]
  },
  {
   "cell_type": "markdown",
   "id": "0005572f",
   "metadata": {},
   "source": [
    "## Peak shift uncertainty\n",
    "\n",
    "Knowing that the Compton peak undergoes a mean fluctuation called $\\Delta E_{peak} = 8 \\, ch = 24 \\, keV$, we used $\\delta E_{peak} = \\frac{\\Delta E_{peak}}{2} = 4 \\, ch = 12 \\,keV$ to quantify our peak energy uncertainty. This can be expressed as:\n",
    "\n",
    "$$\n",
    "\\delta \\theta_{peak} = \\left |\\frac{511}{E'^2 \\cdot \\sqrt{1 - \\left(2 - \\frac{511}{E'} \\right)^2}} \\right | \\cdot \\delta E_{peak}  .\n",
    "$$"
   ]
  },
  {
   "cell_type": "code",
   "execution_count": 8,
   "id": "cd8a3233",
   "metadata": {},
   "outputs": [
    {
     "name": "stdout",
     "output_type": "stream",
     "text": [
      "[0.0556278  0.05646795 0.06101157 0.06869625 0.07953857 0.09393346\n",
      " 0.11266458 0.13707422]\n",
      "[0.0570896  0.0556278  0.05646795 0.06101157]\n"
     ]
    }
   ],
   "source": [
    "energies_riflection = 511/(2 - np.cos(np.radians(riflection_angles)))\n",
    "energies_trasmission = 511/(2 - np.cos(np.radians(trasmission_angles)))\n",
    "\n",
    "dE = 12 #keV\n",
    "dThetaPeak =np.array([])\n",
    "\n",
    "for i in range(len(energies_riflection)):\n",
    "    dTheta = 511/(energies_riflection[i]**2 * np.sqrt(1 - (2 - 511/energies_riflection[i])**2)) * dE\n",
    "    dThetaPeak = np.append(dThetaPeak, dTheta)\n",
    "print(dThetaPeak)\n",
    "\n",
    "dThetaPeak_trasm = np.array([])\n",
    "for i in range(len(energies_trasmission)):\n",
    "    dTheta = 511/(energies_trasmission[i]**2 * np.sqrt(1 - (2 - 511/energies_trasmission[i])**2)) * dE\n",
    "    dThetaPeak_trasm = np.append(dThetaPeak_trasm, dTheta)\n",
    "print(dThetaPeak_trasm)"
   ]
  },
  {
   "cell_type": "markdown",
   "id": "5136c254",
   "metadata": {},
   "source": [
    "## Scattering angle uncertainty\n",
    "\n",
    "This is chosen besed on the instrumental error used to measure $\\theta_{scattering}$, and it is called $\\delta \\theta_{scattering}$.\n",
    "\n",
    "Assuming $a = 5 \\, deg$ one can compute the error assocaited to the placement of the detector at a given scattering angle as:\n",
    "\n",
    "$$\n",
    "\\delta \\theta_{scattering} = \\frac{a}{\\sqrt{12}}\n",
    "$$\n"
   ]
  },
  {
   "cell_type": "code",
   "execution_count": 9,
   "id": "b0a7063c",
   "metadata": {},
   "outputs": [
    {
     "name": "stdout",
     "output_type": "stream",
     "text": [
      "0.02519165783658636\n"
     ]
    }
   ],
   "source": [
    "dThetaScattering = (5 * np.pi/180) / np.sqrt(12)\n",
    "print(dThetaScattering)"
   ]
  },
  {
   "cell_type": "markdown",
   "id": "0b6616cd",
   "metadata": {},
   "source": [
    "## Resolution uncertainty\n",
    "\n",
    "The error due to the resolution of a detector can be expressed by means of the percentile resolution of our spectrometer, that can be computed as:\n",
    "\n",
    "$$\n",
    "\\delta_{resolution} = \\frac{2.35 \\cdot \\sigma_{fit}}{channel} \\cdot 100\n",
    "$$\n",
    "\n",
    "Just like the previous case, this quantity needs to be expressed in terms of the scattering angle, this can be computed using:\n",
    "\n",
    "$$\n",
    "\\delta \\theta_{resolution} = \\left| \\frac{1}{sin^2 \\theta \\cdot (E')^2}\\right| \\cdot \\delta_{resolution} \n",
    "$$"
   ]
  },
  {
   "cell_type": "code",
   "execution_count": 10,
   "id": "d9fdc631",
   "metadata": {},
   "outputs": [
    {
     "name": "stdout",
     "output_type": "stream",
     "text": [
      "[0.00285039 0.00197468 0.00278447 0.00119245 0.00099756 0.00126046\n",
      " 0.00155746 0.00145591]\n",
      "[0.00611945 0.00475065 0.00326955 0.00376419]\n"
     ]
    }
   ],
   "source": [
    "\n",
    "dThetaRis = 1/(np.sin(np.radians(riflection_angles))**2 * (energies_riflection**2)) * err_sigma_riflection * 2.35 / np.radians(riflection_angles) * 100\n",
    "print(dThetaRis)\n",
    "\n",
    "dThetaRis_trasm = 1/(np.sin(np.radians(trasmission_angles))**2 * (energies_trasmission**2)) * err_sigma_trasmission * 2.35 / np.radians(trasmission_angles) * 100\n",
    "print(dThetaRis_trasm)"
   ]
  },
  {
   "cell_type": "markdown",
   "id": "d64ce39d",
   "metadata": {},
   "source": [
    "## Statistical uncertainty\n",
    "\n",
    "The error derived solely from the fit of the Compton peak can be taken in account with the formula:\n",
    "\n",
    "$$\n",
    "\\delta_{fit} = \\frac{\\sigma_{fit}}{\\sqrt{N}}\n",
    "$$\n",
    "\n",
    "Where N is the number of elements in my Compton peak, here as well one needs to express this error in terms of the scattering angle, the formula used is the same:\n",
    "\n",
    "$$\n",
    "\\delta \\theta_{fit} = \\left| \\frac{1}{sin^2 \\theta \\cdot (E')^2}\\right| \\cdot \\delta_{fit}.\n",
    "$$"
   ]
  },
  {
   "cell_type": "code",
   "execution_count": 11,
   "id": "1c11037c",
   "metadata": {},
   "outputs": [
    {
     "name": "stdout",
     "output_type": "stream",
     "text": [
      "[6.45345418e-08 6.43978028e-08 1.19067243e-07 4.74724502e-08\n",
      " 4.16366936e-08 6.93033053e-08 1.18455093e-07 1.23204113e-07]\n",
      "[1.35513929e-07 1.60857662e-07 1.16761642e-07 2.17387811e-07]\n"
     ]
    }
   ],
   "source": [
    "dThetaFit = 1/(np.sin(np.radians(riflection_angles))**2 * (energies_riflection**2)) * err_sigma_riflection / np.sqrt(count_riflection)\n",
    "print(dThetaFit)\n",
    "\n",
    "dThetaFit_trasm = 1/(np.sin(np.radians(trasmission_angles))**2 * (energies_trasmission**2)) * err_sigma_trasmission / np.sqrt(count_trasmission)\n",
    "print(dThetaFit_trasm)"
   ]
  },
  {
   "cell_type": "markdown",
   "id": "9025b916",
   "metadata": {},
   "source": [
    "## Final results\n",
    "\n",
    "One can express the error bars on the x-axis as a sum of statistical and systematical uncertainties following the expression:\n",
    "\n",
    "$$\n",
    "\\delta \\theta = \\delta \\theta_{stat} \\pm \\delta \\theta_{syst} = (\\delta \\theta_{fit}) \\pm \\left(\\delta \\theta_{peak} \\oplus \\delta \\theta_{scattering} \\oplus \\delta \\theta_{resolution} \\right)\n",
    "$$"
   ]
  },
  {
   "cell_type": "code",
   "execution_count": 12,
   "id": "dd2a35b9",
   "metadata": {},
   "outputs": [
    {
     "name": "stdout",
     "output_type": "stream",
     "text": [
      "[0.06113268 0.06186401 0.06606664 0.07317939 0.08343863 0.09726108\n",
      " 0.11545726 0.1393776 ]\n",
      "[0.06270013 0.0612508  0.06191892 0.06611528]\n"
     ]
    }
   ],
   "source": [
    "dThetaTOT = dThetaFit + np.sqrt(dThetaPeak**2 + dThetaRis**2 + dThetaScattering**2)\n",
    "print (dThetaTOT)\n",
    "\n",
    "dThetaTOT_trasm = dThetaFit_trasm + np.sqrt(dThetaPeak_trasm**2 + dThetaRis_trasm**2 + dThetaScattering**2)\n",
    "print(dThetaTOT_trasm)"
   ]
  },
  {
   "cell_type": "code",
   "execution_count": 13,
   "id": "e85c9a24",
   "metadata": {},
   "outputs": [
    {
     "name": "stdout",
     "output_type": "stream",
     "text": [
      "File 'errori_arrays.npz' salvato con successo.\n"
     ]
    }
   ],
   "source": [
    "np.savez('errori_arrays_riflex_effSotto.npz', y_err=delta_total_riflection, x_err=dThetaTOT)\n",
    "np.savez('errori_arrays_trasm_effSotto.npz', y_err=delta_total_trasmission, x_err=dThetaTOT_trasm)\n",
    "\n",
    "print(\"File 'errori_arrays.npz' salvato con successo.\")"
   ]
  }
 ],
 "metadata": {
  "kernelspec": {
   "display_name": "Python (myenv)",
   "language": "python",
   "name": "myenv"
  },
  "language_info": {
   "codemirror_mode": {
    "name": "ipython",
    "version": 3
   },
   "file_extension": ".py",
   "mimetype": "text/x-python",
   "name": "python",
   "nbconvert_exporter": "python",
   "pygments_lexer": "ipython3",
   "version": "3.12.3"
  }
 },
 "nbformat": 4,
 "nbformat_minor": 5
}
