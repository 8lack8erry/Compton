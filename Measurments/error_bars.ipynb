{
 "cells": [
  {
   "cell_type": "markdown",
   "id": "a48792c8",
   "metadata": {},
   "source": [
    "# Error bars\n",
    "\n",
    "Given the formula that links the differential cross section to the event rate measured by our experiment:\n",
    "\n",
    "$$\n",
    "\\frac{dR}{d \\Omega_{spect}} = \\epsilon_{spect}\\left(\\theta \\right) \\cdot \\frac{n_{gate}}{T} \\cdot n_{c} \\cdot \\wp(\\theta; \\lambda', \\lambda '') \\cdot \\frac{d \\sigma}{d \\Omega}\n",
    "$$\n",
    "\n",
    "with our equipment we were able to measure just the rate of events for a certain scattering angle, not the differential quantity $\\frac{dN}{d \\Omega}$, the formula above is then replaced by:\n",
    "\n",
    "$$\n",
    "dR = d \\Omega_{spect} \\cdot \\epsilon_{spect}\\left(\\theta \\right) \\cdot \\frac{n_{gate}}{T} \\cdot n_{c} \\cdot \\wp(\\theta; \\lambda', \\lambda '') \\cdot \\frac{d \\sigma}{d \\Omega}\n",
    "$$\n",
    "\n",
    "once settled this key concept it is crucial to correctly evaluate the uncertainities linked to these measurements. "
   ]
  },
  {
   "cell_type": "markdown",
   "id": "d7ec13b0",
   "metadata": {},
   "source": [
    "## Statistical and systematical uncertainties + work flow\n",
    "First thing first it is fundamental to distinguish between the various sources of errors one can come across during a measurement in a nuclear physics' experiment.\n",
    "In particular we need to separate the contributions given by $\\textit{statistical}$ and $\\textit{systematical}$ uncertainties:\n",
    "\n",
    "- Statistical uncertainities could come from the counting of photons or the errors associated to the fit parameters, a square sum will be used to take account of them.\n",
    "- Systematical uncertainties arise from various effects, such as the shift of the Compton peak, the errors associated with the geometrical measurements of the apparatus and so on, we'll take account of them with a square sum as well.\n",
    "\n",
    "By looking at the expression above one could come up with an expression for the uncertainty that looks like:\n",
    "\n",
    "$$\n",
    "\\left(\\frac{\\delta R}{R} \\right) = \\left(\\frac{\\delta (d \\Omega_{spect})}{d \\Omega_{spect}} \\right) \\oplus \\left(\\frac{\\delta \\epsilon_{spect}}{\\epsilon_{spect}} \\right) \\oplus \\left(\\frac{\\delta n_{gate}}{n_{gate}} \\right) \\oplus \\left(\\frac{\\delta n_c}{n_c} \\right) \\oplus \\left(\\frac{\\delta \\wp}{\\wp} \\right) \n",
    "$$\n",
    "\n",
    "assuming every quantity considered in this expression is independent from one another and has a relatively small error associated to it.\n",
    "\n",
    "To make sure randomness and bias are not mixed together these two kinds of uncertainties will be combined as:\n",
    "\n",
    "$$\n",
    "\\sigma_{tot} = \\sigma_{statistic} + \\sigma_{systematic}\n",
    "$$\n",
    "\n",
    "so that one can split the two contributes in:\n",
    "\n",
    "$$ \\left(\\frac{\\delta Q_{stat}}{Q} \\right)^2 = \\sum_{X \\, \\in \\, (d \\Omega_{spect}, \\epsilon_{spect}, n_{gate}, n_c, \\wp)}  \\left(\\frac{\\delta X_{stat}}{X} \\right)^2 $$\n",
    "$$ \\left(\\frac{\\delta Q_{sist}}{Q} \\right)^2 = \\sum_{X \\, \\in \\, (d \\Omega_{spect}, \\epsilon_{spect}, n_{gate}, n_c, \\wp)}  \\left(\\frac{\\delta X_{sist}}{X} \\right)^2 $$\n"
   ]
  },
  {
   "cell_type": "markdown",
   "id": "6b8b9bee",
   "metadata": {},
   "source": [
    "## $n_c$ uncertainty\n",
    "\n",
    "Given:\n",
    "\n",
    "$$\n",
    "n_c = \\rho \\frac{N_a \\cdot Z}{MM}\n",
    "$$\n",
    "\n",
    "where: \n",
    "- $\\rho$ is the density of the scattering target\n",
    "- $N_a$ is the Avogadro number\n",
    "- $\\text{MM}$ is the molar mass of the scattering target\n",
    "\n",
    "One can clearly see that all these quantities are known with extreme accuracy, we won't take account of their uncertainties."
   ]
  },
  {
   "cell_type": "markdown",
   "id": "cee84ea8",
   "metadata": {},
   "source": [
    "## $\\epsilon_{spect}$ uncertainty\n",
    "\n",
    "In this case the value of $\\epsilon_{spect}$ is obtained by an interpolation, the error associated to it will then be consider as a statistical uncertainty. Given the formula used to fit the efficiency curve: \n",
    "\n",
    "$$\n",
    "\\epsilon_{spect} = A \\cdot E^{-B} \\cdot \\exp(-C \\cdot E) + D\n",
    "$$\n",
    "\n",
    "where $A,B,C,D$ are all model parameters and $E$ is the energy of the incoming gamma ray. Given that, one can compute the error associated to this quantity as:\n",
    "\n",
    "$$\n",
    "\\delta \\epsilon = \\left( \\frac{\\partial \\epsilon}{\\partial A} \\cdot \\delta A \\right) \\oplus \\left( \\frac{\\partial \\epsilon}{\\partial B} \\cdot \\delta B \\right) \\oplus \\left( \\frac{\\partial \\epsilon}{\\partial C} \\cdot \\delta C \\right) \\oplus \\left( \\frac{\\partial \\epsilon}{\\partial D} \\cdot \\delta D \\right)\n",
    "$$\n",
    "\n",
    "$$\n",
    "\\delta \\epsilon = \\sqrt{\\left[E^{-B} \\cdot e^{-CE} \\cdot \\delta A \\right]^2 + \\left[A \\cdot E^{-B} \\cdot e^{-CE} \\cdot \\ln(B) \\cdot \\delta B \\right]^2 + \\left[A \\cdot E^{-B} \\cdot e^{-CE} \\cdot E \\cdot \\delta C \\right]^2 + \\left[ \\delta D \\right]^2}\n",
    "$$\n",
    "\n"
   ]
  },
  {
   "cell_type": "code",
   "execution_count": 1,
   "id": "f064d7d7",
   "metadata": {},
   "outputs": [
    {
     "name": "stdout",
     "output_type": "stream",
     "text": [
      "\n",
      "Incertezza sull'efficienza (δϵ) a E = 511.00 è 0.009780\n"
     ]
    }
   ],
   "source": [
    "import numpy as np\n",
    "\n",
    "# Parametri del fit e le relative incertezze\n",
    "A = 1.5604\n",
    "delta_A = 1.2255\n",
    "\n",
    "B = -0.0995\n",
    "delta_B = 0.04328\n",
    "\n",
    "C = 3.53466\n",
    "delta_C = 1.00558\n",
    "\n",
    "D = 0.10210\n",
    "delta_D = 0.00978\n",
    "\n",
    "def epsilon_spettrometer(theta): \n",
    "\n",
    "    A = 1.5604\n",
    "    B = -0.0995\n",
    "    C = 3.53466\n",
    "    D = 0.10210\n",
    "    \n",
    "    E  = 511/(2 - np.cos(theta)) * 1e-3 #da MeV a keV\n",
    "\n",
    "    return A * pow(E, -B) * np.exp(-C * E) + D\n",
    "\n",
    "\n",
    "def delta_eff(E):\n",
    "    term1 = E**(-2 * B) * np.exp(-2 * C * E) * delta_A**2\n",
    "    term2 = A**2 * E**(-2 * B) * np.exp(-2 * C * E) * (np.log(E))**2 * delta_B**2\n",
    "    term3 = A**2 * E**(-2 * B) * np.exp(-2 * C * E) * (E**2) * delta_C**2 \n",
    "    term4 = delta_D**2\n",
    "\n",
    "    delta_epsilon = np.sqrt(term1 + term2 + term3 + term4)\n",
    "    return delta_epsilon\n",
    "\n",
    "E_input = 511 \n",
    "result = delta_eff(E_input)\n",
    "print(f\"\\nIncertezza sull'efficienza (δϵ) a E = {E_input:.2f} è {result:.6f}\")\n"
   ]
  },
  {
   "cell_type": "markdown",
   "id": "353213cb",
   "metadata": {},
   "source": [
    "## $n_{gate}$ uncertainty\n",
    "\n",
    "Given: \n",
    "\n",
    "$$\n",
    "n_{gate} = 2 \\cdot S \\left(t \\right) \\cdot \\text{BR} \\cdot \\frac{\\Delta\\Omega}{4\\pi} \\cdot \\epsilon_{gate}(511)\n",
    "$$\n",
    "\n",
    "where: \n",
    "- $S(t)$ is the activity of the source in Bq\n",
    "- $\\text{BR}$ is the branching ratio of the 511 keV photon\n",
    "- $\\frac{\\Delta\\Omega}{4\\pi}$ is the solid angle\n",
    "- $\\epsilon_{gate}(511)$ is the efficiency of the gate detector for the 511 keV photon\n",
    "\n",
    "In this case one can assume that the branching ratio (BR) is well known, the uncertainties linked to $S \\left(t \\right)$ and $\\epsilon_{gate}$ are statistical errors and the one associated to $\\Delta \\Omega$ is systematical.\n",
    "\n",
    "### $\\delta S(t)$ computation\n",
    "For this uncertainty, an error of 0.5 cm in the distance from the detector and 3 mm in the displacement from the detector axis was considered. The acquisition times were assumed to be error-free, as they were set within the Maestro application. For the number of counts, the uncertainty associated with Poisson statistics was taken into account.\n",
    "The associated error is then:\n",
    "\n",
    "$$\n",
    "\\delta S \\left( t \\right) = 11647 \\ Bq.\n",
    "$$\n",
    "\n",
    "### $\\delta \\epsilon_{gate}$ computation\n",
    "\n",
    "For this computation please refer to the previous section.\n",
    "We impose a 2.5% error on each point and from the linear fit we gain:\n",
    "\n",
    "$$\n",
    "\\delta \\epsilon_{gate} (511) = 0.01672   \n",
    "$$\n",
    "\n",
    "### $\\delta (\\Delta \\Omega / 4\\pi)$ computation\n",
    "\n",
    "For the uncertainty linked to the measurement of the solid angle covered by the spectrometer one can start from the formula:\n",
    "\n",
    "$$\n",
    "\\frac{\\Delta\\Omega}{4\\pi} =  \\frac{1 - \\cos (\\beta)}{2}\n",
    "$$\n",
    "\n",
    "where $\\beta$ is computed as: \n",
    "\n",
    "$$\n",
    "\\beta = \\arctan \\left( \\frac{r_{gate}}{d_{source-gate}} \\right).\n",
    "$$\n",
    "\n",
    "Both of these two measurements are known with their uncertainty, $r_{gate} = (1,27 \\pm 0,01) \\, cm$ and ${d_{source-gate}} = d =(18.54 \\pm 0.5) \\, cm$, knowing that one can propagate the errors using the error propagation expression.\n",
    "\n",
    "$$\n",
    "\\left(\\delta (\\Delta \\Omega / 4\\pi) \\right) = \\left( \\frac{\\partial (\\Delta \\Omega / 4\\pi)}{\\partial r} \\delta r\\right) \\oplus \\left( \\frac{\\partial (\\Delta \\Omega / 4\\pi)}{\\partial d} \\delta d\\right)\n",
    "$$\n",
    "\n",
    "and that:\n",
    "\n",
    "$$\n",
    "\\frac{\\partial (\\Delta \\Omega / 4\\pi)}{\\partial r} = \\frac{r}{2 d^2 \\cdot \\left( \\frac{r^2}{d^2} + 1 \\right)^{3/2}}\n",
    "$$\n",
    "\n",
    "$$\n",
    "\\frac{\\partial (\\Delta \\Omega / 4\\pi)}{\\partial d} = - \\frac{r^2}{2 d^3 \\cdot \\left( \\frac{r^2}{d^2} + 1 \\right)^{3/2}}\n",
    "$$\n",
    "\n",
    "one can find the uncertainty asssociated to the solid angle using the formula below:\n",
    "\n",
    "$$\n",
    "\\delta \\left(\\Delta \\Omega / 4\\pi \\right) = \\sqrt{\\left(\\frac{r}{2 d^2 \\cdot \\left( \\frac{r^2}{d^2} + 1 \\right)^{3/2}} \\cdot \\delta r \\right)^2 + \\left(\\frac{r^2}{2 d^3 \\cdot\\left( \\frac{r^2}{d^2} + 1 \\right)^{3/2}} \\cdot \\delta d \\right)^2}\n",
    "$$\n"
   ]
  },
  {
   "cell_type": "code",
   "execution_count": 2,
   "id": "4b8ba78d",
   "metadata": {},
   "outputs": [
    {
     "name": "stdout",
     "output_type": "stream",
     "text": [
      "Incertezza sulla frazione di angolo solido ΔΩ/4π: 0.01468969384187046 +/- 6.545346664430829e-05\n"
     ]
    }
   ],
   "source": [
    "import math\n",
    "\n",
    "# Valori noti (convertiti in metri se vuoi usare il SI, qui rimangono in cm)\n",
    "r = 1.27       # cm\n",
    "delta_r = 0.01 # cm\n",
    "d = 18.54       # cm\n",
    "delta_d = 0.5  # cm\n",
    "\n",
    "term1  = r * delta_r / (2 * d**2 * (r**2/d**2 + 1)**(3/2))\n",
    "term2 = r**2 * delta_d / (2 * d**3 * (r**2/d**2 + 1)**(3/2))\n",
    "\n",
    "delta_Omega = np.sqrt(term1**2 + term2**2)\n",
    "\n",
    "Omega = 2 * np.pi * (1-np.cos(np.arctan(r/d)))\n",
    "\n",
    "print(f\"Incertezza sulla frazione di angolo solido ΔΩ/4π:\",Omega ,\"+/-\", delta_Omega)\n"
   ]
  },
  {
   "cell_type": "markdown",
   "id": "88c07b25",
   "metadata": {},
   "source": [
    "## $d \\Omega_{spect}$ uncertainty\n",
    "\n",
    "In questa sezione faccio riferimento al disegno che ha fatto Andre per il calcolo dell'angolo solido.\n",
    "\n",
    "Since we are computing a solid angle, the formula used to compute it is the same as always:\n",
    "\n",
    "$$\n",
    "d \\Omega = 2 \\pi \\cdot \\left( 1 - \\cos \\beta \\right)\n",
    "$$\n",
    "\n",
    "where $\\beta$ is now given from the Carnot theorem that states:\n",
    "\n",
    "$$\n",
    "A^2 + B^2 + 2AB \\cos \\beta = C^2.\n",
    "$$\n",
    "\n",
    "Givent that, one can easily compute $\\cos \\beta$ with the inverse formula:\n",
    "\n",
    "$$\n",
    "\\cos \\beta = \\frac{A^2 + B^2 - C^2}{2AB}.\n",
    "$$\n",
    "\n",
    "In this case $C$ is known from the Scionix manual and so is the error associated to it $\\delta C$ while $A$ and $B$ are computed as:\n",
    "\n",
    "- $A = d(IP, D_a) = \\sqrt{\\sum_{j=1}^{3} \\left(IP_j - D_{a_j}\\right)^2}$\n",
    "- $B = d(IP, D_b) = \\sqrt{\\sum_{j=1}^{3} \\left(IP_j - D_{b_j}\\right)^2}$\n",
    "\n",
    "where $IP$ stands for \"Interaction Point\", indicating the place where the Compton interaction has taken place, it is defined as $IP = (x, y, z)$ and its uncertainty is given by the spatial resolution of our simulation $\\delta x = \\delta y = \\delta z = 0.25 \\, mm$. $A$ and $B$ are the segments linking $IP$ to the spectrometer's edge respectively $D_a$ and $D_b$, known from a geometrical reasoning and considered without uncertainty. \\\\\n",
    "For A the error can be computed starting from the partial derivative:\n",
    "\n",
    "$$\n",
    "\\frac{\\partial A}{\\partial IP_j} = \\sqrt{\\sum_{k=1}^{3} \\left(IP_k - D_{a_k}\\right)^2} = \\frac{IP_j - D_{a_j}}{A}. \n",
    "$$\n",
    "\n",
    "assuming the uncertainties between x, y and z are uncorrelated and $ \\delta_x = \\delta_y = \\delta_z = \\delta$ one can write the error propagation formula as:\n",
    "\n",
    "$$\n",
    "\\delta_A^2 = \\sum_{k=1}^{3} \\left(\\frac{\\partial A}{\\partial IP_k} \\cdot \\delta_k \\right)^2 = \\delta^2 \\frac{1}{A^2} \\sum_{k=1}^{3} \\left( IP_k - D_{a_j}\\right)^2.\n",
    "$$\n",
    "\n",
    "But since $A$ was previously defined as $ A = \\sqrt{\\sum_{j=1}^{3} \\left(IP_j - D_{a_j}\\right)^2}$, one can then write the following:\n",
    "\n",
    "$$\n",
    "\\delta_A = \\delta.\n",
    "$$\n",
    "\n",
    "Obviously the same goes for $\\delta_B = \\delta$.\n",
    "Since $\\delta_A = \\delta_B = \\delta$ are known and $\\delta_C$ comes from the Scionix manual, following:\n",
    "\n",
    "$$\n",
    "\\delta_{\\cos \\beta} = \\left( \\frac{\\partial \\cos \\beta}{\\partial A} \\right) \\oplus \\left( \\frac{\\partial \\cos \\beta}{\\partial B} \\right) \\oplus \\left( \\frac{\\partial \\cos \\beta}{\\partial C} \\right)\n",
    "$$\n",
    "\n",
    "where: \n",
    "\n",
    "- $\\frac{\\partial \\cos \\beta}{\\partial A} = \\frac{A^2 - B^2 + C^2}{2A^2B}$\n",
    "- $\\frac{\\partial \\cos \\beta}{\\partial B} = \\frac{B^2 - A^2 + C^2}{2AB^2}$\n",
    "- $\\frac{\\partial \\cos \\beta}{\\partial B} = - \\frac{C}{AB}$\n",
    "\n",
    "one can finally come up with an expression for the error propagation on the quantity $\\cos \\beta$:\n",
    "\n",
    "$$\n",
    "\\delta_{\\cos \\beta} = \\sqrt{\\left(\\frac{A^2 - B^2 + C^2}{2A^2B} \\right)^2 \\cdot \\delta^2 + \\left(\\frac{B^2 - A^2 + C^2}{2AB^2} \\right)^2 \\cdot \\delta^2 + \\left(\\frac{C}{AB} \\right)^2 \\cdot \\delta_C^2}\n",
    "$$\n",
    "\n",
    "\n"
   ]
  },
  {
   "cell_type": "markdown",
   "id": "a24fb8d6",
   "metadata": {},
   "source": [
    "## Final results\n",
    "\n",
    "Knowing all the information we need, the uncertainty on the rate measurement can be expressed as:\n",
    "\n",
    "$$\n",
    "\\frac{\\delta R}{R} = \\left[ \\left(\\frac{\\delta \\epsilon_{spectrometer}}{\\epsilon_{spectrometer}} \\right) \\oplus \\left(\\frac{\\delta S(t)}{S(t)} \\right) \\oplus \\left(\\frac{\\delta \\epsilon_{gate}}{\\epsilon_{gate}} \\right) \\right] \\pm \\left( \\frac{\\delta \\Delta \\Omega}{\\Delta \\Omega} \\right)\n",
    "$$\n",
    "\n"
   ]
  },
  {
   "cell_type": "code",
   "execution_count": 3,
   "id": "04b0ed4f",
   "metadata": {},
   "outputs": [],
   "source": [
    "def leggi_dati(file_path):\n",
    "    # Inizializza liste per ogni colonna\n",
    "    angle, rate, err_rate = [], [], []\n",
    "    count, err_count = [], []\n",
    "    channel, err_channel = [], []\n",
    "    sigma, err_sigma = [], []\n",
    "\n",
    "    with open(file_path, 'r') as file:\n",
    "        lines = file.readlines()\n",
    "\n",
    "        # Salta l'intestazione\n",
    "        for line in lines[1:]:\n",
    "            valori = line.strip().split()\n",
    "            if len(valori) != 9:\n",
    "                continue  # Salta righe non valide\n",
    "\n",
    "            angle.append(float(valori[0]))\n",
    "            rate.append(float(valori[1]))\n",
    "            err_rate.append(float(valori[2]))\n",
    "            count.append(float(valori[3]))\n",
    "            err_count.append(float(valori[4]))\n",
    "            channel.append(float(valori[5]))\n",
    "            err_channel.append(float(valori[6]))\n",
    "            sigma.append(float(valori[7]))\n",
    "            err_sigma.append(float(valori[8]))\n",
    "\n",
    "    return angle, rate, err_rate, count, err_count, channel, err_channel, sigma, err_sigma\n",
    "\n",
    "file_path = \"../Codes/data_analysis/parameters_pol4_riflection.txt\"\n",
    "\n",
    "angle, rate, err_rate, count, err_count, channel, err_channel, sigma, err_sigma = leggi_dati(file_path)\n",
    "\n",
    "file_path = \"../Codes/data_analysis/parameters_pol4_trasmission.txt\"\n",
    "\n",
    "angle_trasm, rate_trasm, err_rate_trasm, count_trasm, err_count_trasm, channel_trasm, err_channel_trasm, sigma_trasm, err_sigma_trasm = leggi_dati(file_path)\n"
   ]
  },
  {
   "cell_type": "code",
   "execution_count": 4,
   "id": "05fa902f",
   "metadata": {},
   "outputs": [],
   "source": [
    "# Dati tabella: angoli in gradi e valori corrispondenti\n",
    "# angles_deg = np.array([\n",
    "#     140, 135, 130, 125, 120, 115, 110, 105, 100, 95,\n",
    "#     90, 85, 80, 75, 70, 65, 60, 55, 50, 45,\n",
    "#     40, 35, 30, 25, 20\n",
    "# ])\n",
    "\n",
    "# #N.B. PER IL 35 HO USATO IL VALORE IN TRASMISSIONE A 45 CM \n",
    "# values = np.array([\n",
    "#     0.03244310169, 0.03244310169, 0.03249877382, 0.03249877382, 0.03249877382,\n",
    "#     0.03244310169, 0.03244310169, 0.03249877382, 0.03249877382, 0.03249877382,\n",
    "#     0.03244310169, 0.03244310169, 0.03244310169, 0.03244310169, 0.03244310169,\n",
    "#     0.03255449356, 0.03255449356, 0.03261026089, 0.03261026089, 0.0327778485,\n",
    "#     0.03288981157, 0.03300196504, 0.03322684314, 0.03345248278, 0.03384918453,\n",
    "#     0.03436265618, 0.03522700787, 0.03669138374, 0.03964779781, 0.04777407735\n",
    "# ]) \n",
    "\n",
    "angles_deg_ref = np.array([40, 50, 60, 70, 80, 90, 100, 110])\n",
    "values_ref = np.array([0.02735079041747454, 0.025819652026622272, 0.027070509615309143, \n",
    "                   0.026302777950659273, 0.026575610155933342, 0.02669072072779364,\n",
    "                   0.026320830435048827, 0.02677502814759899])\n",
    "\n",
    "angles_deg_trasm = np.array([35, 40, 50, 60])\n",
    "values_trasm = np.array([0.026686807818702276, 0.02735079041747454, 0.025819652026622272, 0.027070509615309143])\n",
    "\n",
    "# def angle_spectrometer(theta, angles_deg):\n",
    "#     # Converti radianti in gradi\n",
    "#     angle_deg = np.degrees(theta)\n",
    "    \n",
    "#     # Trova indice del valore con angolo più vicino\n",
    "#     idx = (np.abs(angles_deg - angle_deg)).argmin()\n",
    "    \n",
    "#     # Restituisci il valore corrispondente\n",
    "#     return idx\n",
    "\n",
    "# # Calcola i valori corrispondenti di angle_spectrometer per ogni angolo\n",
    "# spectrometer_values = np.array([angle_spectrometer(theta, angles_deg_ref) for theta in angles_deg_ref])\n",
    "\n",
    "# Dividi ogni rate per il corrispondente valore di angle_spectrometer\n",
    "corrected_rates = rate / values_ref\n",
    "\n",
    "# spectrometer_values_trasm =  np.array([angle_spectrometer(theta, angles_deg_trasm) for theta in angles_deg_trasm]) # rispettivamente 35 ,40 ,50 deg\n",
    "\n",
    "corrected_rates_trasm = rate_trasm / values_trasm"
   ]
  },
  {
   "cell_type": "code",
   "execution_count": 5,
   "id": "a749a03c",
   "metadata": {},
   "outputs": [
    {
     "name": "stdout",
     "output_type": "stream",
     "text": [
      " attività 0.061656961355214396\n",
      "\n",
      " efficienza gate 0.11374149659863945\n",
      "\n",
      " frazione di angolo solido 0.0044557406947273726\n",
      "\n",
      " efficienza spettrometro _ riflex [0.0225969  0.02053506 0.01871464 0.0171871  0.01594345 0.0149484\n",
      " 0.01416031 0.01354058]\n",
      "\n",
      " efficienza spettrometro _ trasm [0.02367513 0.0225969  0.02053506 0.01871464]\n",
      "\n",
      "\n",
      "\n",
      "\n",
      "\n",
      "[0.08643795 0.22810205 0.1811194  0.12720782 0.07477297 0.13297517\n",
      " 0.06668744 0.07411656]\n",
      "[0.11663566 0.09875077 0.07444269 0.05318229]\n"
     ]
    }
   ],
   "source": [
    "S = 188900\n",
    "dS = 11647\n",
    "\n",
    "print (\" attività\" , dS/S)\n",
    "\n",
    "E = 0.14700\n",
    "dE =0.01672  \n",
    "\n",
    "print(\"\\n efficienza gate\", dE/E)\n",
    "\n",
    "\n",
    "dOmega = delta_Omega\n",
    "\n",
    "print(\"\\n frazione di angolo solido\", dOmega/Omega)\n",
    "\n",
    "\n",
    "\n",
    "angles = np.radians(angle)\n",
    "energies = 511/(2 - np.cos(angles))\n",
    "efficiencies = epsilon_spettrometer(angles)\n",
    "err_tot = corrected_rates * (\n",
    "    np.sqrt((dS / S)**2 + (dE / E)**2 + (delta_eff(energies) / efficiencies)**2) + dOmega / Omega\n",
    ")\n",
    "\n",
    "print(\"\\n efficienza spettrometro _ riflex\", delta_eff(energies) / efficiencies)\n",
    "\n",
    "\n",
    "\n",
    "#------------------------\n",
    "\n",
    "angles_trasm = np.radians(angle_trasm)\n",
    "energies_trasm = 511/(2 - np.cos(angles_trasm))\n",
    "efficiencies_trasm = epsilon_spettrometer(angles_trasm)\n",
    "err_tot_trasm = corrected_rates_trasm * (\n",
    "    np.sqrt((dS / S)**2 + (dE / E)**2 + (delta_eff(energies_trasm) / efficiencies_trasm)**2) + dOmega / Omega\n",
    ")\n",
    "\n",
    "print(\"\\n efficienza spettrometro _ trasm\",delta_eff(energies_trasm) / efficiencies_trasm)\n",
    "\n",
    "print(\"\\n\\n\\n\\n\")\n",
    "\n",
    "print(err_tot)\n",
    "print(err_tot_trasm)\n"
   ]
  },
  {
   "cell_type": "markdown",
   "id": "5371ae4b",
   "metadata": {},
   "source": [
    "# Energy uncertainties\n",
    "\n",
    "On the x-axis of our Klein-Nishina plot we put the scattering angles, linked to these quantities there are a few uncertainty factors such as:\n",
    "- The shift in the position of the Compton peak due to temperature instability and other environmental factors.\n",
    "- The error associated to the measurement of the scattering angle. \n",
    "- The uncertainty linked to the spectrometer resolution, which, of course, is not ideal.\n",
    "- The statistic error derived from the gaussian fit of the Compton peak.\n",
    "\n",
    "While these first three factors have a systematic nature, the last one can be considered as strictly statistical. Knowing this it is crucial to transform every energy-related quantity into an angle-related quantity, one can do that simply by using the inverted Compton formula shown below:\n",
    "\n",
    "$$\n",
    "\\theta (E') = \\arccos \\left[2- \\frac{511}{E'} \\right]\n",
    "$$\n",
    "\n",
    "that gives rise to the associated uncertainty formula, which is:\n",
    "\n",
    "$$\n",
    "\\delta \\theta = \\left |\\frac{511}{E'^2 \\cdot \\sqrt{1 - \\left(2 - \\frac{511}{E'} \\right)^2}} \\right | \\cdot \\delta E' \n",
    "$$\n",
    "\n",
    "\n",
    "\n",
    "\n",
    "\n"
   ]
  },
  {
   "cell_type": "markdown",
   "id": "0005572f",
   "metadata": {},
   "source": [
    "## Peak shift uncertainty\n",
    "\n",
    "Knowing that the Compton peak undergoes a mean fluctuation called $\\Delta E_{peak} = 8 \\, ch = 24 \\, keV$, we used $\\delta E_{peak} = \\frac{\\Delta E_{peak}}{2} = 4 \\, ch = 12 \\,keV$ to quantify our peak energy uncertainty. This can be expressed as:\n",
    "\n",
    "$$\n",
    "\\delta \\theta_{peak} = \\left |\\frac{511}{E'^2 \\cdot \\sqrt{1 - \\left(2 - \\frac{511}{E'} \\right)^2}} \\right | \\cdot \\delta E_{peak}  .\n",
    "$$"
   ]
  },
  {
   "cell_type": "code",
   "execution_count": 6,
   "id": "cd8a3233",
   "metadata": {},
   "outputs": [
    {
     "name": "stdout",
     "output_type": "stream",
     "text": [
      "[0.0556278  0.05646795 0.06101157 0.06869625 0.07953857 0.09393346\n",
      " 0.11266458 0.13707422]\n",
      "[0.0570896  0.0556278  0.05646795 0.06101157]\n"
     ]
    }
   ],
   "source": [
    "dE = 12 #keV\n",
    "dThetaPeak =np.array([])\n",
    "\n",
    "for i in range(len(energies)):\n",
    "    dTheta = 511/(energies[i]**2 * np.sqrt(1 - (2 - 511/energies[i])**2)) * dE\n",
    "    dThetaPeak = np.append(dThetaPeak, dTheta)\n",
    "print(dThetaPeak)\n",
    "\n",
    "dThetaPeak_trasm = np.array([])\n",
    "for i in range(len(energies_trasm)):\n",
    "    dTheta = 511/(energies_trasm[i]**2 * np.sqrt(1 - (2 - 511/energies_trasm[i])**2)) * dE\n",
    "    dThetaPeak_trasm = np.append(dThetaPeak_trasm, dTheta)\n",
    "print(dThetaPeak_trasm)"
   ]
  },
  {
   "cell_type": "markdown",
   "id": "5136c254",
   "metadata": {},
   "source": [
    "## Scattering angle uncertainty\n",
    "\n",
    "This is chosen besed on the instrumental error used to measure $\\theta_{scattering}$, and it is called $\\delta \\theta_{scattering}$.\n",
    "\n",
    "Assuming $a = 5 \\, deg$ one can compute the error assocaited to the placement of the detector at a given scattering angle as:\n",
    "\n",
    "$$\n",
    "\\delta \\theta_{scattering} = \\frac{a}{\\sqrt{12}}\n",
    "$$\n"
   ]
  },
  {
   "cell_type": "code",
   "execution_count": 7,
   "id": "b0a7063c",
   "metadata": {},
   "outputs": [
    {
     "name": "stdout",
     "output_type": "stream",
     "text": [
      "0.02519165783658636\n"
     ]
    }
   ],
   "source": [
    "dThetaScattering = (5 * np.pi/180) / np.sqrt(12)\n",
    "print(dThetaScattering)"
   ]
  },
  {
   "cell_type": "markdown",
   "id": "0b6616cd",
   "metadata": {},
   "source": [
    "## Resolution uncertainty\n",
    "\n",
    "The error due to the resolution of a detector can be expressed by means of the percentile resolution of our spectrometer, that can be computed as:\n",
    "\n",
    "$$\n",
    "\\delta_{resolution} = \\frac{2.35 \\cdot \\sigma_{fit}}{channel} \\cdot 100\n",
    "$$\n",
    "\n",
    "Just like the previous case, this quantity needs to be expressed in terms of the scattering angle, this can be computed using:\n",
    "\n",
    "$$\n",
    "\\delta \\theta_{resolution} = \\left| \\frac{1}{sin^2 \\theta \\cdot (E')^2}\\right| \\cdot \\delta_{resolution} \n",
    "$$"
   ]
  },
  {
   "cell_type": "code",
   "execution_count": 8,
   "id": "d9fdc631",
   "metadata": {},
   "outputs": [
    {
     "name": "stdout",
     "output_type": "stream",
     "text": [
      "[0.00285039 0.00197468 0.00278447 0.00119245 0.00146308 0.00130629\n",
      " 0.00155746 0.00145591]\n",
      "[0.00611945 0.00475065 0.00326955 0.00376419]\n"
     ]
    }
   ],
   "source": [
    "\n",
    "dThetaRis = 1/(np.sin(angles)**2 * (energies**2)) * err_sigma * 2.35 / angles * 100\n",
    "print(dThetaRis)\n",
    "\n",
    "dThetaRis_trasm = 1/(np.sin(angles_trasm)**2 * (energies_trasm**2)) * err_sigma_trasm * 2.35 / angles_trasm * 100\n",
    "print(dThetaRis_trasm)"
   ]
  },
  {
   "cell_type": "markdown",
   "id": "d64ce39d",
   "metadata": {},
   "source": [
    "## Statistical uncertainty\n",
    "\n",
    "The error derived solely from the fit of the Compton peak can be taken in account with the formula:\n",
    "\n",
    "$$\n",
    "\\delta_{fit} = \\frac{\\sigma_{fit}}{\\sqrt{N}}\n",
    "$$\n",
    "\n",
    "Where N is the number of elements in my Compton peak, here as well one needs to express this error in terms of the scattering angle, the formula used is the same:\n",
    "\n",
    "$$\n",
    "\\delta \\theta_{fit} = \\left| \\frac{1}{sin^2 \\theta \\cdot (E')^2}\\right| \\cdot \\delta_{fit}.\n",
    "$$"
   ]
  },
  {
   "cell_type": "code",
   "execution_count": 9,
   "id": "1c11037c",
   "metadata": {},
   "outputs": [
    {
     "name": "stdout",
     "output_type": "stream",
     "text": [
      "[6.45345418e-08 6.43978028e-08 1.19067243e-07 4.74724502e-08\n",
      " 8.91584160e-08 6.96607856e-08 1.18455093e-07 1.23204113e-07]\n",
      "[1.35513929e-07 1.60857662e-07 1.16761642e-07 2.17387811e-07]\n"
     ]
    }
   ],
   "source": [
    "dThetaFit = 1/(np.sin(angles)**2 * (energies**2)) * err_sigma / np.sqrt(count)\n",
    "print(dThetaFit)\n",
    "\n",
    "dThetaFit_trasm = 1/(np.sin(angles_trasm)**2 * (energies_trasm**2)) * err_sigma_trasm / np.sqrt(count_trasm)\n",
    "print(dThetaFit_trasm)"
   ]
  },
  {
   "cell_type": "markdown",
   "id": "9025b916",
   "metadata": {},
   "source": [
    "## Final results\n",
    "\n",
    "One can express the error bars on the x-axis as a sum of statistical and systematical uncertainties following the expression:\n",
    "\n",
    "$$\n",
    "\\delta \\theta = \\delta \\theta_{stat} \\pm \\delta \\theta_{syst} = (\\delta \\theta_{fit}) \\pm \\left(\\delta \\theta_{peak} \\oplus \\delta \\theta_{scattering} \\oplus \\delta \\theta_{resolution} \\right)\n",
    "$$"
   ]
  },
  {
   "cell_type": "code",
   "execution_count": 10,
   "id": "dd2a35b9",
   "metadata": {},
   "outputs": [
    {
     "name": "stdout",
     "output_type": "stream",
     "text": [
      "[0.06113268 0.06186401 0.06606664 0.07317939 0.08344555 0.09726168\n",
      " 0.11545726 0.1393776 ]\n",
      "[0.06270013 0.0612508  0.06191892 0.06611528]\n"
     ]
    }
   ],
   "source": [
    "dThetaTOT = dThetaFit + np.sqrt(dThetaPeak**2 + dThetaRis**2 + dThetaScattering**2)\n",
    "print (dThetaTOT)\n",
    "\n",
    "dThetaTOT_trasm = dThetaFit_trasm + np.sqrt(dThetaPeak_trasm**2 + dThetaRis_trasm**2 + dThetaScattering**2)\n",
    "print(dThetaTOT_trasm)"
   ]
  },
  {
   "cell_type": "code",
   "execution_count": 11,
   "id": "e85c9a24",
   "metadata": {},
   "outputs": [
    {
     "name": "stdout",
     "output_type": "stream",
     "text": [
      "File 'errori_arrays.npz' salvato con successo.\n"
     ]
    }
   ],
   "source": [
    "np.savez('errori_arrays_riflex.npz', y_err=err_tot, x_err=dThetaTOT)\n",
    "np.savez('errori_arrays_trasm.npz', y_err=err_tot_trasm, x_err=dThetaTOT_trasm)\n",
    "\n",
    "print(\"File 'errori_arrays.npz' salvato con successo.\")"
   ]
  }
 ],
 "metadata": {
  "kernelspec": {
   "display_name": "myenv",
   "language": "python",
   "name": "python3"
  },
  "language_info": {
   "codemirror_mode": {
    "name": "ipython",
    "version": 3
   },
   "file_extension": ".py",
   "mimetype": "text/x-python",
   "name": "python",
   "nbconvert_exporter": "python",
   "pygments_lexer": "ipython3",
   "version": "3.11.6"
  }
 },
 "nbformat": 4,
 "nbformat_minor": 5
}
