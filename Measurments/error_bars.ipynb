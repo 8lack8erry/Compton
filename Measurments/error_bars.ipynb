{
 "cells": [
  {
   "cell_type": "markdown",
   "id": "a48792c8",
   "metadata": {},
   "source": [
    "# Error bars\n",
    "\n",
    "Given the formula that links the differential cross section to the event rate measured by our experiment:\n",
    "\n",
    "$$\n",
    "\\frac{dR}{d \\Omega} = \\epsilon_{spectrometer}\\left(\\theta \\right) \\cdot \\frac{n_{gate}}{T} \\cdot n_{c} \\cdot \\wp(\\theta; \\lambda', \\lambda '') \\cdot \\frac{d \\sigma}{d \\Omega}\n",
    "$$\n",
    "\n",
    "it is crucial to corectly evaluate the uncertainities of these measurements. "
   ]
  },
  {
   "cell_type": "markdown",
   "id": "d7ec13b0",
   "metadata": {},
   "source": [
    "## Statistical and systematical uncertainties + work flow\n",
    "First thing first it is fundamental to distinguish between the various sources of errors we came across during our experience.\n",
    "In particular we need to separate the contributions given by $\\textit{statistical}$ and $\\textit{systematical}$ uncertainties:\n",
    "\n",
    "- Statistical uncertainities could come from the counting of photons or the errors associated to the fit parameters, a square sum will be used to take account of them.\n",
    "- Systematical uncertainties arise from various effects, such as the shift of the Compton peak, the errors associated with the geometrical measurements of the apparatus and so on, we'll take account of them with a square sum as well.\n",
    "\n",
    "By looking at the expression above one could come up with an expression for the uncertainty that looks like:\n",
    "\n",
    "$$\n",
    "\\left(\\frac{\\Delta R}{R} \\right)^2 = \\left(\\frac{\\Delta \\epsilon_{spectrometer}}{\\epsilon_{spectrometer}} \\right)^2 + \\left(\\frac{\\Delta n_{gate}}{n_{gate}} \\right)^2 + \\left(\\frac{\\Delta n_c}{n_c} \\right)^2 + \\left(\\frac{\\Delta \\wp}{\\wp} \\right)^2 + \\left(\\frac{\\Delta T}{T} \\right)^2\n",
    "$$\n",
    "\n",
    "assuming every quantity considered in this expression is independent from one another.\n",
    "\n",
    "To make sure randomness and bias are not mixed together these two kinds of uncertainties will be combined as:\n",
    "\n",
    "$$\n",
    "\\sigma_{tot} = \\sigma_{statistic} + \\sigma_{systematic}\n",
    "$$\n",
    "\n",
    "so that we can split the two contributes in:\n",
    "\n",
    "$$ \\left(\\frac{\\Delta \\sigma_{stat}}{\\sigma} \\right)^2 = \\sum_{X \\, \\in \\, (\\epsilon_{spectr.}, n_{gate}, T, n_c, \\wp)}  \\left(\\frac{\\Delta X_{stat}}{X} \\right)^2 $$\n",
    "$$ \\left(\\frac{\\Delta \\sigma_{sist}}{\\sigma} \\right)^2 = \\sum_{X \\, \\in \\, (\\epsilon_{spectr.}, n_{gate}, T, n_c, \\wp)}  \\left(\\frac{\\Delta X_{sist}}{X} \\right)^2 $$\n"
   ]
  },
  {
   "cell_type": "markdown",
   "id": "6b8b9bee",
   "metadata": {},
   "source": [
    "## Scattering centers density uncertainty\n",
    "\n",
    "Given:\n",
    "\n",
    "$$\n",
    "n_c = \\rho \\frac{N_a}{MM}\n",
    "$$\n",
    "\n",
    "where: \n",
    "- $\\rho$ is the density of the scattering target\n",
    "- $N_a$ is the Avogadro number\n",
    "- $\\text{MM}$ is the molar mass of the scattering target\n",
    "\n",
    "One can clearly see that all these quantities are known with extreme accuracy, we won't take account of their uncertainties."
   ]
  },
  {
   "cell_type": "markdown",
   "id": "353213cb",
   "metadata": {},
   "source": [
    "## Gate's photons uncertainty\n",
    "\n",
    "Given: \n",
    "\n",
    "$$\n",
    "n_{gate} = 2 \\cdot S \\left(t \\right) \\cdot \\text{BR} \\cdot \\frac{\\Delta\\Omega}{4\\pi} \\cdot \\epsilon_{gate}(511)\n",
    "$$\n",
    "\n",
    "where: \n",
    "- $S(t)$ is the activity of the source in Bq\n",
    "- $\\text{BR}$ is the branching ratio of the 511 keV photon\n",
    "- $\\frac{\\Delta\\Omega}{4\\pi}$ is the solid angle\n",
    "- $\\epsilon_{gate}(511)$ is the efficiency of the gate detector for the 511 keV photon\n",
    "\n",
    "In this case one can assume that the branching ratio (BR) is well known, the uncertainties linked to $S \\left(t \\right)$ and $\\epsilon_{gate}$ are statistical errors and the one associated to $\\Delta \\Omega$ is systematical.\n",
    "For each of them we get the following values:\n",
    "- $\\sigma_{S \\left( t \\right)}$ = 10 491 $Bq$ \n",
    "- $\\sigma_{\\epsilon_{gate}}$ = \n",
    "- $\\sigma_{\\Delta \\Omega}$ = "
   ]
  }
 ],
 "metadata": {
  "language_info": {
   "name": "python"
  }
 },
 "nbformat": 4,
 "nbformat_minor": 5
}
