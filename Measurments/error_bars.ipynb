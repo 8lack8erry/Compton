{
 "cells": [
  {
   "cell_type": "markdown",
   "id": "a48792c8",
   "metadata": {},
   "source": [
    "# Error bars\n",
    "\n",
    "Given the formula that links the differential cross section to the event rate measured by our experiment:\n",
    "\n",
    "$$\n",
    "\\frac{dR}{d \\Omega} = \\epsilon_{spectrometer}\\left(\\theta \\right) \\cdot \\frac{n_{gate}}{T} \\cdot n_{c} \\cdot \\wp(\\theta; \\lambda', \\lambda '') \\cdot \\frac{d \\sigma}{d \\Omega}\n",
    "$$\n",
    "\n",
    "it is crucial to correctly evaluate the uncertainities of these measurements. "
   ]
  },
  {
   "cell_type": "markdown",
   "id": "d7ec13b0",
   "metadata": {},
   "source": [
    "## Statistical and systematical uncertainties + work flow\n",
    "First thing first it is fundamental to distinguish between the various sources of errors one can come across during a measurement in a nuclear physics' experiment.\n",
    "In particular we need to separate the contributions given by $\\textit{statistical}$ and $\\textit{systematical}$ uncertainties:\n",
    "\n",
    "- Statistical uncertainities could come from the counting of photons or the errors associated to the fit parameters, a square sum will be used to take account of them.\n",
    "- Systematical uncertainties arise from various effects, such as the shift of the Compton peak, the errors associated with the geometrical measurements of the apparatus and so on, we'll take account of them with a square sum as well.\n",
    "\n",
    "By looking at the expression above one could come up with an expression for the uncertainty that looks like:\n",
    "\n",
    "$$\n",
    "\\left(\\frac{\\delta R}{R} \\right)^2 = \\left(\\frac{\\delta \\epsilon_{spectrometer}}{\\epsilon_{spectrometer}} \\right)^2 + \\left(\\frac{\\delta n_{gate}}{n_{gate}} \\right)^2 + \\left(\\frac{\\delta n_c}{n_c} \\right)^2 + \\left(\\frac{\\delta \\wp}{\\wp} \\right)^2 \n",
    "$$\n",
    "\n",
    "assuming every quantity considered in this expression is independent from one another and has a relatively small error associated to it.\n",
    "\n",
    "To make sure randomness and bias are not mixed together these two kinds of uncertainties will be combined as:\n",
    "\n",
    "$$\n",
    "\\sigma_{tot} = \\sigma_{statistic} + \\sigma_{systematic}\n",
    "$$\n",
    "\n",
    "so that one can split the two contributes in:\n",
    "\n",
    "$$ \\left(\\frac{\\delta Q_{stat}}{Q} \\right)^2 = \\sum_{X \\, \\in \\, (\\epsilon_{spectr.}, n_{gate}, T, n_c, \\wp)}  \\left(\\frac{\\delta X_{stat}}{X} \\right)^2 $$\n",
    "$$ \\left(\\frac{\\delta Q_{sist}}{Q} \\right)^2 = \\sum_{X \\, \\in \\, (\\epsilon_{spectr.}, n_{gate}, T, n_c, \\wp)}  \\left(\\frac{\\delta X_{sist}}{X} \\right)^2 $$\n"
   ]
  },
  {
   "cell_type": "markdown",
   "id": "6b8b9bee",
   "metadata": {},
   "source": [
    "## $n_c$ uncertainty\n",
    "\n",
    "Given:\n",
    "\n",
    "$$\n",
    "n_c = \\rho \\frac{N_a \\cdot Z}{MM}\n",
    "$$\n",
    "\n",
    "where: \n",
    "- $\\rho$ is the density of the scattering target\n",
    "- $N_a$ is the Avogadro number\n",
    "- $\\text{MM}$ is the molar mass of the scattering target\n",
    "\n",
    "One can clearly see that all these quantities are known with extreme accuracy, we won't take account of their uncertainties."
   ]
  },
  {
   "cell_type": "markdown",
   "id": "cee84ea8",
   "metadata": {},
   "source": [
    "## $\\epsilon_{spectrometer}$ uncertainty\n",
    "\n",
    "In this case the value of $\\epsilon_{spectrometer}$ is obtained by an interpolation, the error associated to it will then be consider as a statistical uncertainty. Given the formula used to fit the efficiency curve: \n",
    "\n",
    "$$\n",
    "\\epsilon_{spectrometer} = A \\cdot E^{-B} \\cdot \\exp(-C \\cdot E) + D\n",
    "$$\n",
    "\n",
    "where $A,B,C,D$ are all model parameters and $E$ is the energy of the incoming gamma ray. Given that, one can compute the error associated to this quantity as:\n",
    "\n",
    "$$\n",
    "\\delta \\epsilon = \\left( \\frac{\\partial \\epsilon}{\\partial A} \\cdot \\delta A \\right) \\oplus \\left( \\frac{\\partial \\epsilon}{\\partial B} \\cdot \\delta B \\right) \\oplus \\left( \\frac{\\partial \\epsilon}{\\partial C} \\cdot \\delta C \\right) \\oplus \\left( \\frac{\\partial \\epsilon}{\\partial D} \\cdot \\delta D \\right)\n",
    "$$\n",
    "\n",
    "$$\n",
    "\\delta \\epsilon = \\exp(-E \\cdot C) \\left( \\delta A \\cdot E^{-B} - \\frac{\\delta B \\cdot A \\cdot B}{E^{B+1}} - \\frac{A \\cdot C \\cdot \\delta C }{E^{B}} \\right) + \\delta D\n",
    "$$\n",
    "\n",
    "Parameters from the efficency fit:\n",
    "\n",
    "  $$ A = 1.55710 ± 2.91779 $$\n",
    " $$ B = -0.09831 ± 1.03314  $$\n",
    " $$ C = 3.53226 ± 2.39943 $$\n",
    " $$ D = 0.10209 ± 0.02355 $$\n"
   ]
  },
  {
   "cell_type": "code",
   "execution_count": 2,
   "id": "f064d7d7",
   "metadata": {},
   "outputs": [
    {
     "name": "stdout",
     "output_type": "stream",
     "text": [
      "\n",
      "Incertezza sull'efficienza (δϵ) a E = 511.00 è 0.023550\n"
     ]
    }
   ],
   "source": [
    "import numpy as np\n",
    "\n",
    "# Parametri del fit e le relative incertezze\n",
    "A = 1.55710\n",
    "delta_A = 2.91779\n",
    "\n",
    "B = -0.09831\n",
    "delta_B = 1.03314\n",
    "\n",
    "C = 3.53226\n",
    "delta_C = 2.39943\n",
    "\n",
    "D = 0.10209\n",
    "delta_D = 0.02355\n",
    "\n",
    "def delta_eff(E):\n",
    "    # Calcolo del termine esponenziale\n",
    "    exp_term = np.exp(-E * C)\n",
    "    \n",
    "    # Calcolo dei singoli contributi all'incertezza\n",
    "    term1 = delta_A * E**(-B)\n",
    "    term2 = (delta_B * A * B) / (E**(B + 1))\n",
    "    term3 = (A * C * delta_C) / (E**B)\n",
    "\n",
    "    # Formula completa\n",
    "    delta_epsilon = exp_term * (term1 - term2 - term3) + delta_D\n",
    "    return delta_epsilon\n",
    "\n",
    "\n",
    "E_input = 511 \n",
    "result = delta_eff(E_input)\n",
    "print(f\"\\nIncertezza sull'efficienza (δϵ) a E = {E_input:.2f} è {result:.6f}\")\n"
   ]
  },
  {
   "cell_type": "markdown",
   "id": "353213cb",
   "metadata": {},
   "source": [
    "## $n_{gate}$ uncertainty\n",
    "\n",
    "Given: \n",
    "\n",
    "$$\n",
    "n_{gate} = 2 \\cdot S \\left(t \\right) \\cdot \\text{BR} \\cdot \\frac{\\Delta\\Omega}{4\\pi} \\cdot \\epsilon_{gate}(511)\n",
    "$$\n",
    "\n",
    "where: \n",
    "- $S(t)$ is the activity of the source in Bq\n",
    "- $\\text{BR}$ is the branching ratio of the 511 keV photon\n",
    "- $\\frac{\\Delta\\Omega}{4\\pi}$ is the solid angle\n",
    "- $\\epsilon_{gate}(511)$ is the efficiency of the gate detector for the 511 keV photon\n",
    "\n",
    "In this case one can assume that the branching ratio (BR) is well known, the uncertainties linked to $S \\left(t \\right)$ and $\\epsilon_{gate}$ are statistical errors and the one associated to $\\Delta \\Omega$ is systematical.\n",
    "\n",
    "### $\\delta S(t)$ computation\n",
    "For this uncertainty, an error of 0.5 cm in the distance from the detector and 3 mm in the displacement from the detector axis was considered. The acquisition times were assumed to be error-free, as they were set within the Maestro application. For the number of counts, the uncertainty associated with Poisson statistics was taken into account.\n",
    "The associated error is then:\n",
    "\n",
    "$$\n",
    "\\delta S \\left( t \\right) = 11647 \\ Bq.\n",
    "$$\n",
    "\n",
    "### $\\delta \\epsilon_{gate}$ computation\n",
    "\n",
    "For this computation please refer to the previous section.\n",
    "We impose a 5% error on each point and from the linear fit we gain:\n",
    "\n",
    "$$\n",
    "\\delta \\epsilon_{gate} (511) = 0.03344  \n",
    "$$\n",
    "\n",
    "### $\\delta (\\Delta \\Omega / 4\\pi)$ computation\n",
    "\n",
    "For the uncertainty linked to the measurement of the solid angle covered by the spectrometer one can start from the formula:\n",
    "\n",
    "$$\n",
    "\\frac{\\Delta\\Omega}{4\\pi} =  \\frac{1 - \\cos (\\beta)}{2}\n",
    "$$\n",
    "\n",
    "where $\\beta$ is computed as: \n",
    "\n",
    "$$\n",
    "\\beta = \\arctan \\left( \\frac{r_{gate}}{d_{source-gate}} \\right).\n",
    "$$\n",
    "\n",
    "Both of these two measurements are known with their uncertainty, $r_{gate} = (1,27 \\pm 0,02) \\, cm$ and ${d_{source-gate}} = d =(16.0 \\pm 0.5) \\, cm$, knowing that one can propagate the errors using the error propagation expression.\n",
    "\n",
    "$$\n",
    "\\left(\\delta (\\Delta \\Omega / 4\\pi) \\right)^2 = \\left( \\frac{\\partial (\\Delta \\Omega / 4\\pi)}{\\partial r} \\delta r\\right)^2 + \\left( \\frac{\\partial (\\Delta \\Omega / 4\\pi)}{\\partial d} \\delta d\\right)^2\n",
    "$$\n",
    "\n",
    "and that:\n",
    "\n",
    "$$\n",
    "\\frac{\\partial (\\Delta \\Omega / 4\\pi)}{\\partial r} = \\frac{1}{2} \\cdot \\sin(\\beta) \\frac{\\partial \\beta}{\\partial r} = \\frac{1}{2} \\cdot \\frac{r \\cdot d}{(r^2 + d^2)^{3/2}}\n",
    "$$\n",
    "\n",
    "$$\n",
    "\\frac{\\partial (\\Delta \\Omega / 4\\pi)}{\\partial d} = \\frac{1}{2} \\cdot \\sin(\\beta) \\frac{\\partial \\beta}{\\partial d} = - \\frac{1}{2} \\cdot \\frac{r^2}{(r^2 + d^2)^{3/2}}\n",
    "$$\n",
    "\n",
    "one can find the uncertainty asssociated to the solid angle using the formula below:\n",
    "\n",
    "$$\n",
    "\\delta \\left(\\Delta \\Omega / 4\\pi \\right) = \\sqrt{\\left(\\frac{1}{2} \\cdot\\frac{r \\cdot d}{(r^2 + d^2)^{3/2}} \\cdot \\delta r \\right)^2 + \\left(\\frac{1}{2} \\cdot \\frac{r^2}{(r^2 + d^2)^{3/2}} \\cdot \\delta d \\right)^2}\n",
    "$$\n"
   ]
  },
  {
   "cell_type": "code",
   "execution_count": 3,
   "id": "4b8ba78d",
   "metadata": {},
   "outputs": [
    {
     "name": "stdout",
     "output_type": "stream",
     "text": [
      "Incertezza sulla frazione di angolo solido ΔΩ/4π: 1.09204e-04\n"
     ]
    }
   ],
   "source": [
    "import math\n",
    "\n",
    "# Valori noti (convertiti in metri se vuoi usare il SI, qui rimangono in cm)\n",
    "r = 1.27       # cm\n",
    "delta_r = 0.02 # cm\n",
    "d = 16.0       # cm\n",
    "delta_d = 0.5  # cm\n",
    "\n",
    "# Denominatore comune\n",
    "denominator = (r**2 + d**2)**(3/2)\n",
    "\n",
    "# Derivate parziali moltiplicate per incertezze\n",
    "term_r = (0.5 * r * d / denominator) * delta_r\n",
    "term_d = (0.5 * r**2 / denominator) * delta_d\n",
    "\n",
    "# Errore totale\n",
    "delta_Omega = math.sqrt(term_r**2 + term_d**2)\n",
    "\n",
    "print(f\"Incertezza sulla frazione di angolo solido ΔΩ/4π: {delta_Omega:.5e}\")\n"
   ]
  },
  {
   "cell_type": "markdown",
   "id": "a24fb8d6",
   "metadata": {},
   "source": [
    "## Final results\n",
    "\n",
    "Knowing all the information we need, the uncertainty on the rate measurement can be expressed as:\n",
    "\n",
    "$$\n",
    "\\frac{\\delta R}{R} = \\left[ \\left(\\frac{\\delta \\epsilon_{spectrometer}}{\\epsilon_{spectrometer}} \\right) \\oplus \\left(\\frac{\\delta S(t)}{S(t)} \\right) \\oplus \\left(\\frac{\\delta \\epsilon_{gate}}{\\epsilon_{gate}} \\right) \\right] \\pm \\left( \\frac{\\delta \\Delta \\Omega}{\\Delta \\Omega} \\right)\n",
    "$$\n",
    "\n"
   ]
  },
  {
   "cell_type": "code",
   "execution_count": 4,
   "id": "a749a03c",
   "metadata": {},
   "outputs": [
    {
     "name": "stdout",
     "output_type": "stream",
     "text": [
      "[0.68056107 0.18053253 0.41621351 0.34988404 0.26357018 0.14662691\n",
      " 0.10581341 0.1649862 ]\n"
     ]
    }
   ],
   "source": [
    "S = 188900\n",
    "dS = 11647\n",
    "\n",
    "E = 0.14700\n",
    "dE = 0.03344\n",
    "\n",
    "Omega = 0.001567\n",
    "dOmega = 1.09204e-04\n",
    "\n",
    "angles = np.array([35, 40, 50, 60, 70, 80, 90, 110]) *  np.pi /180\n",
    "energies = 511/(2 - np.cos(angles))\n",
    "measured_rates = np.array([0.02176, 0.01991, 0.04484, 0.03729, 0.02796, 0.01550, 0.01118, 0.01740])\n",
    "corrected_rates =np.array([2.18003898, 0.57940806, 1.34040873, 1.12993272, 0.85301511, 0.47531052, 0.34342417, 0.53632357])\n",
    "efficiencies = np.array([0.41305624, 0.4327683,  0.47622948, 0.52256791, 0.56903235, 0.61344374, 0.65430681, 0.72239891])\n",
    "err_tot = np.array([])\n",
    "\n",
    "\n",
    "for i in range(len(energies)):\n",
    "\n",
    "    error = corrected_rates[i] * (np.sqrt((dS/S)**2 + (dE/E)**2 + (delta_eff(energies[i])/efficiencies[i])**2) + dOmega/Omega)\n",
    "    err_tot = np.append(err_tot, error)\n",
    "\n",
    "print(err_tot)"
   ]
  },
  {
   "cell_type": "markdown",
   "id": "5371ae4b",
   "metadata": {},
   "source": [
    "# Energy uncertainties\n",
    "\n",
    "On the x-axis of our Klein-Nishina plot we put the scattering angles, linked to these quantities there are a few uncertainty factors such as:\n",
    "- The shift in the position of the Compton peak due to temperature instability and other environmental factors.\n",
    "- The error associated to the measurement of the scattering angle. \n",
    "- The uncertainty linked to the spectrometer resolution, which, of course, is not ideal.\n",
    "- The statistic error derived from the gaussian fit of the Compton peak.\n",
    "\n",
    "While these first three factors have a systematic nature, the last one can be considered as strictly statistical. Knowing this it is crucial to transform every energy-related quantity into an angle-related quantity, one can do that simply by using the inverted Compton formula shown below:\n",
    "\n",
    "$$\n",
    "\\theta (E') = \\arccos \\left[2- \\frac{511}{E'} \\right]\n",
    "$$\n",
    "\n",
    "that gives rise to the associated uncertainty formula, which is:\n",
    "\n",
    "$$\n",
    "\\delta \\theta = \\left |\\frac{511}{E'^2 \\cdot \\sqrt{1 - \\left(2 - \\frac{511}{E'} \\right)^2}} \\right | \\cdot \\delta E' \n",
    "$$\n",
    "\n",
    "\n",
    "\n",
    "\n",
    "\n"
   ]
  },
  {
   "cell_type": "markdown",
   "id": "0005572f",
   "metadata": {},
   "source": [
    "## Peak shift uncertainty\n",
    "\n",
    "Knowing that the Compton peak undergoes a mean fluctuation called $\\Delta E_{peak} = 12 \\, ch = 36 \\, keV$, we used $\\delta E_{peak} = \\frac{\\Delta E_{peak}}{2} = 6 \\, ch = 18 \\,keV$ to quantify our peak energy uncertainty. This can be expressed as:\n",
    "\n",
    "$$\n",
    "\\delta \\theta_{peak} = \\left |\\frac{511}{E'^2 \\cdot \\sqrt{1 - \\left(2 - \\frac{511}{E'} \\right)^2}} \\right | \\cdot \\delta E_{peak}  .\n",
    "$$"
   ]
  },
  {
   "cell_type": "code",
   "execution_count": 5,
   "id": "cd8a3233",
   "metadata": {},
   "outputs": [
    {
     "name": "stdout",
     "output_type": "stream",
     "text": [
      "[0.0856344  0.0834417  0.08470192 0.09151736 0.10304437 0.11930785\n",
      " 0.1409002  0.20561133]\n"
     ]
    }
   ],
   "source": [
    "dE = 18 #keV\n",
    "dThetaPeak =np.array([])\n",
    "\n",
    "for i in range(len(energies)):\n",
    "    dTheta = 511/(energies[i]**2 * np.sqrt(1 - (2 - 511/energies[i])**2)) * dE\n",
    "    dThetaPeak = np.append(dThetaPeak, dTheta)\n",
    "\n",
    "print(dThetaPeak)"
   ]
  },
  {
   "cell_type": "markdown",
   "id": "5136c254",
   "metadata": {},
   "source": [
    "## Scattering angle uncertainty\n",
    "\n",
    "This is chosen besed on the instrumental error used to measure $\\theta_{scattering}$, and it is called $\\delta \\theta_{scattering}$.\n",
    "\n",
    "Assuming $a = 5 \\, deg$ one can compute the error assocaited to the placement of the detector at a given scattering angle as:\n",
    "\n",
    "$$\n",
    "\\delta \\theta_{scattering} = \\frac{a}{\\sqrt{3}} = 2.89°\n",
    "$$\n"
   ]
  },
  {
   "cell_type": "code",
   "execution_count": 7,
   "id": "b0a7063c",
   "metadata": {},
   "outputs": [
    {
     "name": "stdout",
     "output_type": "stream",
     "text": [
      "0.05044001538263612\n"
     ]
    }
   ],
   "source": [
    "dThetaScattering = 2.89 * np.pi/180\n",
    "print(dThetaScattering)"
   ]
  },
  {
   "cell_type": "markdown",
   "id": "0b6616cd",
   "metadata": {},
   "source": [
    "## Resolution uncertainty\n",
    "\n",
    "The error due to the resolution of a detector can be expressed by means of the percentile resolution of our spectrometer, that can be computed as:\n",
    "\n",
    "$$\n",
    "\\delta_{resolution} = \\frac{2.35 \\cdot \\sigma_{fit}}{channel} \\cdot 100\n",
    "$$\n",
    "\n",
    "Just like the previous case, this quantity needs to be expressed in terms of the scattering angle, this can be computed using:\n",
    "\n",
    "$$\n",
    "\\delta \\theta_{resolution} = \\left| \\frac{1}{sin^2 \\theta \\cdot (E')^2}\\right| \\cdot \\delta_{resolution} \n",
    "$$"
   ]
  },
  {
   "cell_type": "code",
   "execution_count": null,
   "id": "d9fdc631",
   "metadata": {},
   "outputs": [
    {
     "ename": "NameError",
     "evalue": "name 'dPeak' is not defined",
     "output_type": "error",
     "traceback": [
      "\u001b[0;31m---------------------------------------------------------------------------\u001b[0m",
      "\u001b[0;31mNameError\u001b[0m                                 Traceback (most recent call last)",
      "Cell \u001b[0;32mIn[6], line 3\u001b[0m\n\u001b[1;32m      1\u001b[0m dRes \u001b[38;5;241m=\u001b[39m np\u001b[38;5;241m.\u001b[39marray([]) \u001b[38;5;66;03m#inserire i valori di sigma dai fit\u001b[39;00m\n\u001b[1;32m      2\u001b[0m \u001b[38;5;28;01mfor\u001b[39;00m i \u001b[38;5;129;01min\u001b[39;00m \u001b[38;5;28mrange\u001b[39m(\u001b[38;5;28mlen\u001b[39m(energies)):\n\u001b[0;32m----> 3\u001b[0m     dRes \u001b[38;5;241m=\u001b[39m np\u001b[38;5;241m.\u001b[39mappend(dRes, np\u001b[38;5;241m.\u001b[39msqrt(err_tot[i]\u001b[38;5;241m*\u001b[39m\u001b[38;5;241m*\u001b[39m\u001b[38;5;241m2\u001b[39m \u001b[38;5;241m+\u001b[39m \u001b[43mdPeak\u001b[49m[i]\u001b[38;5;241m*\u001b[39m\u001b[38;5;241m*\u001b[39m\u001b[38;5;241m2\u001b[39m))\n",
      "\u001b[0;31mNameError\u001b[0m: name 'dPeak' is not defined"
     ]
    }
   ],
   "source": [
    "dRes = np.array([]) #inserire i valori di sigma dai fit\n",
    "dThetaRes = np.array([])\n",
    "\n",
    "for i in range(len(energies)):\n",
    "    dTheta = 1/(np.sin(angles[i])**2 * (energies[i]**2)) * dRes[i] * 2.35 / angles[i] *100\n",
    "    dThetaRes = np.append(dThetaRes, dTheta)\n",
    "\n",
    "print(dThetaRes)"
   ]
  },
  {
   "cell_type": "markdown",
   "id": "d64ce39d",
   "metadata": {},
   "source": [
    "## Statistical uncertainty\n",
    "\n",
    "The error derived solely from the fit of the Compton peak can be taken in account with the formula:\n",
    "\n",
    "$$\n",
    "\\delta_{fit} = \\frac{\\sigma_{fit}}{\\sqrt{N}}\n",
    "$$\n",
    "\n",
    "Where N is the number of elements in my Compton peak, here as well one needs to express this error in terms of the scattering angle, the formula used is the same:\n",
    "\n",
    "$$\n",
    "\\delta \\theta_{fit} = \\left| \\frac{1}{sin^2 \\theta \\cdot (E')^2}\\right| \\cdot \\delta_{fit}.\n",
    "$$"
   ]
  },
  {
   "cell_type": "markdown",
   "id": "9025b916",
   "metadata": {},
   "source": [
    "## Final results\n",
    "\n",
    "One can express the error bars on the x-axis as a sum of statistical and systematical uncertainties following the expression:\n",
    "\n",
    "$$\n",
    "\\delta \\theta = \\delta \\theta_{stat} \\pm \\delta \\theta_{syst} = (\\delta \\theta_{fit}) \\pm \\left(\\delta \\theta_{peak} \\oplus \\delta \\theta_{scattering} \\oplus \\delta \\theta_{resolution} \\right)\n",
    "$$"
   ]
  }
 ],
 "metadata": {
  "kernelspec": {
   "display_name": "Python 3",
   "language": "python",
   "name": "python3"
  },
  "language_info": {
   "codemirror_mode": {
    "name": "ipython",
    "version": 3
   },
   "file_extension": ".py",
   "mimetype": "text/x-python",
   "name": "python",
   "nbconvert_exporter": "python",
   "pygments_lexer": "ipython3",
   "version": "3.10.12"
  }
 },
 "nbformat": 4,
 "nbformat_minor": 5
}
